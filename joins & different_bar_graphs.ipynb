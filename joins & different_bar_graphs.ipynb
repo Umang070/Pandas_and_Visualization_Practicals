{
 "cells": [
  {
   "cell_type": "code",
   "execution_count": 1,
   "metadata": {},
   "outputs": [],
   "source": [
    "import pandas as pd\n",
    "from pandas import ExcelWriter\n",
    "from pandas import ExcelFile\n",
    "import matplotlib.pyplot as plt\n",
    "import numpy as np"
   ]
  },
  {
   "cell_type": "code",
   "execution_count": 6,
   "metadata": {},
   "outputs": [
    {
     "data": {
      "text/plain": [
       "prodPurRate     71.637117\n",
       "prodSalRate    100.587257\n",
       "prodDiscAmt      0.167718\n",
       "prodPTC         94.783030\n",
       "dtype: float64"
      ]
     },
     "execution_count": 6,
     "metadata": {},
     "output_type": "execute_result"
    }
   ],
   "source": [
    "new = pd.read_excel(\"C:\\\\Users\\\\UMANG PATEL\\\\Desktop\\\\AIMS\\\\product.xlsx\")\n",
    "old = pd.read_csv(\"C:\\\\Users\\\\UMANG PATEL\\\\Desktop\\\\AIMS\\\\Bill_Data.csv\")\n",
    "old_party = pd.read_csv(\"C:\\\\Users\\\\UMANG PATEL\\\\Desktop\\\\AIMS\\\\Party_Data.csv\")\n",
    "type(new)\n",
    "new.head()\n"
   ]
  },
  {
   "cell_type": "code",
   "execution_count": 113,
   "metadata": {},
   "outputs": [],
   "source": [
    "# new.loc[new.prodCategory==\"PIZZA PASTA\",'prodPurRate']\n",
    "# new.prodCategory.nunique()\n",
    "# new.prodPack.nunique()"
   ]
  },
  {
   "cell_type": "code",
   "execution_count": 3,
   "metadata": {},
   "outputs": [
    {
     "data": {
      "text/html": [
       "<div>\n",
       "<style scoped>\n",
       "    .dataframe tbody tr th:only-of-type {\n",
       "        vertical-align: middle;\n",
       "    }\n",
       "\n",
       "    .dataframe tbody tr th {\n",
       "        vertical-align: top;\n",
       "    }\n",
       "\n",
       "    .dataframe thead th {\n",
       "        text-align: right;\n",
       "    }\n",
       "</style>\n",
       "<table border=\"1\" class=\"dataframe\">\n",
       "  <thead>\n",
       "    <tr style=\"text-align: right;\">\n",
       "      <th></th>\n",
       "      <th>prodName</th>\n",
       "      <th>prodCode</th>\n",
       "      <th>prodPack</th>\n",
       "      <th>prodCategory</th>\n",
       "      <th>prodDesc</th>\n",
       "      <th>prodPurRate</th>\n",
       "      <th>prodSalRate</th>\n",
       "      <th>prodCrPoints</th>\n",
       "      <th>prodDiscAmt</th>\n",
       "      <th>prodPTC</th>\n",
       "    </tr>\n",
       "  </thead>\n",
       "  <tbody>\n",
       "    <tr>\n",
       "      <th>0</th>\n",
       "      <td>AADU</td>\n",
       "      <td>AAD01</td>\n",
       "      <td>KGS</td>\n",
       "      <td>Vegetable</td>\n",
       "      <td>NaN</td>\n",
       "      <td>85.00</td>\n",
       "      <td>100.0</td>\n",
       "      <td>N</td>\n",
       "      <td>0.0</td>\n",
       "      <td>88.0</td>\n",
       "    </tr>\n",
       "    <tr>\n",
       "      <th>1</th>\n",
       "      <td>AADU LEELU</td>\n",
       "      <td>AAD02</td>\n",
       "      <td>KG</td>\n",
       "      <td>Vegetable</td>\n",
       "      <td>NaN</td>\n",
       "      <td>70.00</td>\n",
       "      <td>100.0</td>\n",
       "      <td>N</td>\n",
       "      <td>0.0</td>\n",
       "      <td>48.0</td>\n",
       "    </tr>\n",
       "    <tr>\n",
       "      <th>2</th>\n",
       "      <td>AASHA METHI KHAKHRA</td>\n",
       "      <td>AAS01</td>\n",
       "      <td>PKD</td>\n",
       "      <td>SNACKS</td>\n",
       "      <td>NaN</td>\n",
       "      <td>110.25</td>\n",
       "      <td>140.0</td>\n",
       "      <td>N</td>\n",
       "      <td>0.0</td>\n",
       "      <td>NaN</td>\n",
       "    </tr>\n",
       "    <tr>\n",
       "      <th>3</th>\n",
       "      <td>AASHA MASALA KHAKHRA</td>\n",
       "      <td>AAS02</td>\n",
       "      <td>PKD</td>\n",
       "      <td>SNACKS</td>\n",
       "      <td>NaN</td>\n",
       "      <td>110.25</td>\n",
       "      <td>140.0</td>\n",
       "      <td>N</td>\n",
       "      <td>0.0</td>\n",
       "      <td>NaN</td>\n",
       "    </tr>\n",
       "    <tr>\n",
       "      <th>4</th>\n",
       "      <td>AASHA JIRA KHAKHRA</td>\n",
       "      <td>AAS03</td>\n",
       "      <td>PKD</td>\n",
       "      <td>SNACKS</td>\n",
       "      <td>NaN</td>\n",
       "      <td>55.00</td>\n",
       "      <td>70.0</td>\n",
       "      <td>N</td>\n",
       "      <td>0.0</td>\n",
       "      <td>NaN</td>\n",
       "    </tr>\n",
       "    <tr>\n",
       "      <th>...</th>\n",
       "      <td>...</td>\n",
       "      <td>...</td>\n",
       "      <td>...</td>\n",
       "      <td>...</td>\n",
       "      <td>...</td>\n",
       "      <td>...</td>\n",
       "      <td>...</td>\n",
       "      <td>...</td>\n",
       "      <td>...</td>\n",
       "      <td>...</td>\n",
       "    </tr>\n",
       "    <tr>\n",
       "      <th>837</th>\n",
       "      <td>YOGI CHANAJOR</td>\n",
       "      <td>YOG02</td>\n",
       "      <td>PKD</td>\n",
       "      <td>SNACKS</td>\n",
       "      <td>NaN</td>\n",
       "      <td>26.88</td>\n",
       "      <td>36.0</td>\n",
       "      <td>N</td>\n",
       "      <td>0.0</td>\n",
       "      <td>NaN</td>\n",
       "    </tr>\n",
       "    <tr>\n",
       "      <th>838</th>\n",
       "      <td>YOGI CHANADAL</td>\n",
       "      <td>YOG03</td>\n",
       "      <td>PKD</td>\n",
       "      <td>SNACKS</td>\n",
       "      <td>NaN</td>\n",
       "      <td>26.80</td>\n",
       "      <td>36.0</td>\n",
       "      <td>N</td>\n",
       "      <td>0.0</td>\n",
       "      <td>NaN</td>\n",
       "    </tr>\n",
       "    <tr>\n",
       "      <th>839</th>\n",
       "      <td>YOGI TOMATO SEV</td>\n",
       "      <td>YOG04</td>\n",
       "      <td>PKD</td>\n",
       "      <td>SNACKS</td>\n",
       "      <td>NaN</td>\n",
       "      <td>26.88</td>\n",
       "      <td>40.0</td>\n",
       "      <td>N</td>\n",
       "      <td>0.0</td>\n",
       "      <td>NaN</td>\n",
       "    </tr>\n",
       "    <tr>\n",
       "      <th>840</th>\n",
       "      <td>YOGI CHATPATA MUNG</td>\n",
       "      <td>YOG05</td>\n",
       "      <td>PKD</td>\n",
       "      <td>SNACKS</td>\n",
       "      <td>NaN</td>\n",
       "      <td>NaN</td>\n",
       "      <td>NaN</td>\n",
       "      <td>N</td>\n",
       "      <td>0.0</td>\n",
       "      <td>NaN</td>\n",
       "    </tr>\n",
       "    <tr>\n",
       "      <th>841</th>\n",
       "      <td>YOHI LASAN GANTHIYA</td>\n",
       "      <td>YOH01</td>\n",
       "      <td>PKD</td>\n",
       "      <td>SNACKS</td>\n",
       "      <td>NaN</td>\n",
       "      <td>24.64</td>\n",
       "      <td>40.0</td>\n",
       "      <td>N</td>\n",
       "      <td>0.0</td>\n",
       "      <td>NaN</td>\n",
       "    </tr>\n",
       "  </tbody>\n",
       "</table>\n",
       "<p>842 rows × 10 columns</p>\n",
       "</div>"
      ],
      "text/plain": [
       "                 prodName prodCode prodPack prodCategory prodDesc  \\\n",
       "0                    AADU    AAD01      KGS    Vegetable      NaN   \n",
       "1              AADU LEELU    AAD02       KG    Vegetable      NaN   \n",
       "2     AASHA METHI KHAKHRA    AAS01      PKD       SNACKS      NaN   \n",
       "3    AASHA MASALA KHAKHRA    AAS02      PKD       SNACKS      NaN   \n",
       "4      AASHA JIRA KHAKHRA    AAS03      PKD       SNACKS      NaN   \n",
       "..                    ...      ...      ...          ...      ...   \n",
       "837         YOGI CHANAJOR    YOG02      PKD       SNACKS      NaN   \n",
       "838         YOGI CHANADAL    YOG03      PKD       SNACKS      NaN   \n",
       "839       YOGI TOMATO SEV    YOG04      PKD       SNACKS      NaN   \n",
       "840    YOGI CHATPATA MUNG    YOG05      PKD       SNACKS      NaN   \n",
       "841   YOHI LASAN GANTHIYA    YOH01      PKD       SNACKS      NaN   \n",
       "\n",
       "     prodPurRate  prodSalRate prodCrPoints  prodDiscAmt  prodPTC  \n",
       "0          85.00        100.0            N          0.0     88.0  \n",
       "1          70.00        100.0            N          0.0     48.0  \n",
       "2         110.25        140.0            N          0.0      NaN  \n",
       "3         110.25        140.0            N          0.0      NaN  \n",
       "4          55.00         70.0            N          0.0      NaN  \n",
       "..           ...          ...          ...          ...      ...  \n",
       "837        26.88         36.0            N          0.0      NaN  \n",
       "838        26.80         36.0            N          0.0      NaN  \n",
       "839        26.88         40.0            N          0.0      NaN  \n",
       "840          NaN          NaN            N          0.0      NaN  \n",
       "841        24.64         40.0            N          0.0      NaN  \n",
       "\n",
       "[842 rows x 10 columns]"
      ]
     },
     "execution_count": 3,
     "metadata": {},
     "output_type": "execute_result"
    }
   ],
   "source": [
    "(old.loc[old.BillProdName==\"SABRAS MASALA PANIPURI\",['BillProdCode']]).sample(10)\n",
    "# new.groupby(['prodCategory']).prodPurRate.agg(['size','sum']).reset_index().sort_values(by='size')\n",
    "# old.BillProdName.sample(10)\n",
    "new"
   ]
  },
  {
   "cell_type": "code",
   "execution_count": 4,
   "metadata": {},
   "outputs": [],
   "source": [
    "old_party.head()\n",
    "new=new.rename(columns={\"prodCode\": \"BillProdCode\",'prodCategory':'ProdCategory','prodPurRate':'ProdPRate','prodSalRate':'ProdSRate'})\n",
    "new = new.loc[:,['BillProdCode','ProdCategory','ProdPRate','ProdSRate']]"
   ]
  },
  {
   "cell_type": "code",
   "execution_count": 5,
   "metadata": {},
   "outputs": [],
   "source": [
    "#billprodname of new not print and find all matches in old row in new col.......by default inner\n",
    "#when two col differnt name then left_on(old column name) and right_on(new col name) on which we want to merge.\n",
    "#left_index on then we have to right_on = col_name\n",
    "df = pd.merge(old,new,how='left',left_on=None, right_on=None, left_index=False, right_index=False)    "
   ]
  },
  {
   "cell_type": "code",
   "execution_count": 6,
   "metadata": {},
   "outputs": [
    {
     "data": {
      "text/plain": [
       "461"
      ]
     },
     "execution_count": 6,
     "metadata": {},
     "output_type": "execute_result"
    }
   ],
   "source": [
    "df.isnull().sum()\n",
    "df.sample(5,random_state=0)\n",
    "df.BillProdName.nunique()"
   ]
  },
  {
   "cell_type": "code",
   "execution_count": 62,
   "metadata": {},
   "outputs": [
    {
     "data": {
      "text/plain": [
       "461"
      ]
     },
     "execution_count": 62,
     "metadata": {},
     "output_type": "execute_result"
    }
   ],
   "source": [
    "old.sample(5,random_state=0)\n",
    "old.BillProdName.nunique()\n",
    "# df.ProdCategory.value_counts()"
   ]
  },
  {
   "cell_type": "code",
   "execution_count": 7,
   "metadata": {},
   "outputs": [
    {
     "data": {
      "text/plain": [
       "array([6.23773020e-01, 1.91221838e-01, 1.00331869e-01, 3.29531644e-02,\n",
       "       2.56614004e-02, 1.65466953e-02, 4.18341591e-03, 1.77619893e-03,\n",
       "       1.75282790e-03, 1.02832570e-03, 4.67420772e-04, 2.57081425e-04,\n",
       "       4.67420772e-05])"
      ]
     },
     "execution_count": 7,
     "metadata": {},
     "output_type": "execute_result"
    }
   ],
   "source": [
    "category=df.ProdCategory.value_counts(normalize=True)*100\n",
    "category.index\n",
    "category.values/100"
   ]
  },
  {
   "cell_type": "code",
   "execution_count": 8,
   "metadata": {},
   "outputs": [],
   "source": [
    "%matplotlib inline"
   ]
  },
  {
   "cell_type": "code",
   "execution_count": 26,
   "metadata": {},
   "outputs": [
    {
     "data": {
      "image/png": "[encoded data removed]",
      "text/plain": [
       "<Figure size 432x288 with 1 Axes>"
      ]
     },
     "metadata": {},
     "output_type": "display_data"
    }
   ],
   "source": [
    "explode = [0,0,0.2,0,0,0,0,0,0,0,0,0,0]\n",
    "patches,texts,autotext=plt.pie(category.values,labels=category.index,autopct='% 0.1f%%',textprops={'size':'smaller'},radius=1.5,explode=explode,shadow=True,rotatelabels=True,wedgeprops={'width':0.7})\n",
    "plt.legend(loc='center left',bbox_to_anchor=(1.3, 0.5),fontsize=10,markerfirst = False,title='color_with_labels',borderpad=1,handlelength=0.8,handletextpad=0.9)\n",
    "\n",
    "# Make percent texts even smaller\n",
    "# plt.setp(autotext,size='x-small')\n",
    "autotext[0].set_color('white')\n",
    "\n",
    "\n"
   ]
  },
  {
   "cell_type": "code",
   "execution_count": 13,
   "metadata": {},
   "outputs": [
    {
     "data": {
      "text/html": [
       "<div>\n",
       "<style scoped>\n",
       "    .dataframe tbody tr th:only-of-type {\n",
       "        vertical-align: middle;\n",
       "    }\n",
       "\n",
       "    .dataframe tbody tr th {\n",
       "        vertical-align: top;\n",
       "    }\n",
       "\n",
       "    .dataframe thead th {\n",
       "        text-align: right;\n",
       "    }\n",
       "</style>\n",
       "<table border=\"1\" class=\"dataframe\">\n",
       "  <thead>\n",
       "    <tr style=\"text-align: right;\">\n",
       "      <th></th>\n",
       "      <th>BillNo</th>\n",
       "      <th>BillQty</th>\n",
       "      <th>BillParty</th>\n",
       "      <th>BillDate</th>\n",
       "      <th>BillProdNo</th>\n",
       "      <th>BillProdCode</th>\n",
       "      <th>BillProdName</th>\n",
       "      <th>BillProdPacking</th>\n",
       "      <th>BillProdBatch</th>\n",
       "      <th>BillAddTax</th>\n",
       "      <th>...</th>\n",
       "      <th>BillRate</th>\n",
       "      <th>BillVat</th>\n",
       "      <th>BillAmt</th>\n",
       "      <th>BillFree</th>\n",
       "      <th>BillPTS</th>\n",
       "      <th>BillPartyType</th>\n",
       "      <th>ProdCategory</th>\n",
       "      <th>ProdPRate</th>\n",
       "      <th>ProdSRate</th>\n",
       "      <th>Profit</th>\n",
       "    </tr>\n",
       "  </thead>\n",
       "  <tbody>\n",
       "    <tr>\n",
       "      <th>0</th>\n",
       "      <td>E1617-75852</td>\n",
       "      <td>10.00</td>\n",
       "      <td>NaN</td>\n",
       "      <td>16-Jan-19</td>\n",
       "      <td>2</td>\n",
       "      <td>BAT01</td>\n",
       "      <td>BATAKA</td>\n",
       "      <td>NaN</td>\n",
       "      <td>NaN</td>\n",
       "      <td>0</td>\n",
       "      <td>...</td>\n",
       "      <td>14.0</td>\n",
       "      <td>0.0</td>\n",
       "      <td>140.0</td>\n",
       "      <td>0.0</td>\n",
       "      <td>NaN</td>\n",
       "      <td>R</td>\n",
       "      <td>Vegetable</td>\n",
       "      <td>12.000</td>\n",
       "      <td>18.0</td>\n",
       "      <td>6.000</td>\n",
       "    </tr>\n",
       "    <tr>\n",
       "      <th>1</th>\n",
       "      <td>E1617-75852</td>\n",
       "      <td>6.00</td>\n",
       "      <td>NaN</td>\n",
       "      <td>16-Jan-19</td>\n",
       "      <td>1</td>\n",
       "      <td>DUN01</td>\n",
       "      <td>DUNGRI</td>\n",
       "      <td>NaN</td>\n",
       "      <td>NaN</td>\n",
       "      <td>0</td>\n",
       "      <td>...</td>\n",
       "      <td>12.0</td>\n",
       "      <td>0.0</td>\n",
       "      <td>72.0</td>\n",
       "      <td>0.0</td>\n",
       "      <td>NaN</td>\n",
       "      <td>R</td>\n",
       "      <td>Vegetable</td>\n",
       "      <td>10.000</td>\n",
       "      <td>16.0</td>\n",
       "      <td>6.000</td>\n",
       "    </tr>\n",
       "    <tr>\n",
       "      <th>2</th>\n",
       "      <td>E1617-75853</td>\n",
       "      <td>3.00</td>\n",
       "      <td>HAREKRISHNA BAKERY</td>\n",
       "      <td>16-Jan-19</td>\n",
       "      <td>1</td>\n",
       "      <td>RIN07</td>\n",
       "      <td>RINGAN BHARTHA</td>\n",
       "      <td>NaN</td>\n",
       "      <td>NaN</td>\n",
       "      <td>0</td>\n",
       "      <td>...</td>\n",
       "      <td>38.0</td>\n",
       "      <td>0.0</td>\n",
       "      <td>114.0</td>\n",
       "      <td>0.0</td>\n",
       "      <td>NaN</td>\n",
       "      <td>R</td>\n",
       "      <td>Vegetable</td>\n",
       "      <td>35.000</td>\n",
       "      <td>52.0</td>\n",
       "      <td>17.000</td>\n",
       "    </tr>\n",
       "    <tr>\n",
       "      <th>3</th>\n",
       "      <td>E1617-75854</td>\n",
       "      <td>0.25</td>\n",
       "      <td>NaN</td>\n",
       "      <td>16-Jan-19</td>\n",
       "      <td>1</td>\n",
       "      <td>GAJ01</td>\n",
       "      <td>GAJAR</td>\n",
       "      <td>NaN</td>\n",
       "      <td>NaN</td>\n",
       "      <td>0</td>\n",
       "      <td>...</td>\n",
       "      <td>24.0</td>\n",
       "      <td>0.0</td>\n",
       "      <td>6.0</td>\n",
       "      <td>0.0</td>\n",
       "      <td>NaN</td>\n",
       "      <td>R</td>\n",
       "      <td>Vegetable</td>\n",
       "      <td>13.000</td>\n",
       "      <td>24.0</td>\n",
       "      <td>11.000</td>\n",
       "    </tr>\n",
       "    <tr>\n",
       "      <th>4</th>\n",
       "      <td>E1617-75855</td>\n",
       "      <td>3.00</td>\n",
       "      <td>NaN</td>\n",
       "      <td>16-Jan-19</td>\n",
       "      <td>1</td>\n",
       "      <td>BAN01</td>\n",
       "      <td>BANANA</td>\n",
       "      <td>NaN</td>\n",
       "      <td>NaN</td>\n",
       "      <td>0</td>\n",
       "      <td>...</td>\n",
       "      <td>3.4</td>\n",
       "      <td>0.0</td>\n",
       "      <td>10.2</td>\n",
       "      <td>0.0</td>\n",
       "      <td>NaN</td>\n",
       "      <td>R</td>\n",
       "      <td>Fruit</td>\n",
       "      <td>23.334</td>\n",
       "      <td>40.0</td>\n",
       "      <td>16.666</td>\n",
       "    </tr>\n",
       "  </tbody>\n",
       "</table>\n",
       "<p>5 rows × 22 columns</p>\n",
       "</div>"
      ],
      "text/plain": [
       "        BillNo  BillQty           BillParty   BillDate  BillProdNo  \\\n",
       "0  E1617-75852    10.00                 NaN  16-Jan-19           2   \n",
       "1  E1617-75852     6.00                 NaN  16-Jan-19           1   \n",
       "2  E1617-75853     3.00  HAREKRISHNA BAKERY  16-Jan-19           1   \n",
       "3  E1617-75854     0.25                 NaN  16-Jan-19           1   \n",
       "4  E1617-75855     3.00                 NaN  16-Jan-19           1   \n",
       "\n",
       "  BillProdCode    BillProdName  BillProdPacking  BillProdBatch  BillAddTax  \\\n",
       "0        BAT01          BATAKA              NaN            NaN           0   \n",
       "1        DUN01          DUNGRI              NaN            NaN           0   \n",
       "2        RIN07  RINGAN BHARTHA              NaN            NaN           0   \n",
       "3        GAJ01           GAJAR              NaN            NaN           0   \n",
       "4        BAN01          BANANA              NaN            NaN           0   \n",
       "\n",
       "   ...  BillRate  BillVat  BillAmt  BillFree  BillPTS  BillPartyType  \\\n",
       "0  ...      14.0      0.0    140.0       0.0      NaN              R   \n",
       "1  ...      12.0      0.0     72.0       0.0      NaN              R   \n",
       "2  ...      38.0      0.0    114.0       0.0      NaN              R   \n",
       "3  ...      24.0      0.0      6.0       0.0      NaN              R   \n",
       "4  ...       3.4      0.0     10.2       0.0      NaN              R   \n",
       "\n",
       "   ProdCategory ProdPRate ProdSRate  Profit  \n",
       "0     Vegetable    12.000      18.0   6.000  \n",
       "1     Vegetable    10.000      16.0   6.000  \n",
       "2     Vegetable    35.000      52.0  17.000  \n",
       "3     Vegetable    13.000      24.0  11.000  \n",
       "4         Fruit    23.334      40.0  16.666  \n",
       "\n",
       "[5 rows x 22 columns]"
      ]
     },
     "execution_count": 13,
     "metadata": {},
     "output_type": "execute_result"
    }
   ],
   "source": [
    "\n",
    "df.head(5)"
   ]
  },
  {
   "cell_type": "code",
   "execution_count": 10,
   "metadata": {},
   "outputs": [
    {
     "data": {
      "text/plain": [
       "BillNo               0\n",
       "BillQty              0\n",
       "BillParty        25735\n",
       "BillDate             0\n",
       "BillProdNo           0\n",
       "BillProdCode         1\n",
       "BillProdName         4\n",
       "BillAddTax           0\n",
       "BillRate             0\n",
       "BillVat              0\n",
       "BillAmt              0\n",
       "BillFree             0\n",
       "BillPartyType        0\n",
       "ProdCategory        34\n",
       "ProdPRate           57\n",
       "ProdSRate           44\n",
       "dtype: int64"
      ]
     },
     "execution_count": 10,
     "metadata": {},
     "output_type": "execute_result"
    }
   ],
   "source": [
    "df['BillDate'] = pd.to_datetime(df.BillDate)\n",
    "df.isnull().sum()"
   ]
  },
  {
   "cell_type": "code",
   "execution_count": 7,
   "metadata": {},
   "outputs": [],
   "source": [
    "df.drop(columns=['BillExpdate','BillProdPacking','BillProdBatch','BillMRP','BillPTS'],inplace=True)"
   ]
  },
  {
   "cell_type": "code",
   "execution_count": 11,
   "metadata": {},
   "outputs": [],
   "source": [
    "df['month']=df.BillDate.dt.month.astype(str).str.pad(width=2,fillchar=\"0\")\n",
    "df['year']=df.BillDate.dt.year.astype(str)\n",
    "df['weekday'] = df.BillDate.dt.day_name()\n"
   ]
  },
  {
   "cell_type": "code",
   "execution_count": 16,
   "metadata": {},
   "outputs": [],
   "source": [
    "df3=df.loc[(df.year=='2019') & (df.month=='03'),['BillParty','weekday']].copy()\n",
    "# df3.groupby('weekday').BillParty.describe()\n",
    "# df3"
   ]
  },
  {
   "cell_type": "code",
   "execution_count": 17,
   "metadata": {},
   "outputs": [
    {
     "data": {
      "text/plain": [
       "Text(0, 0.5, 'Total_no_of_customers')"
      ]
     },
     "execution_count": 17,
     "metadata": {},
     "output_type": "execute_result"
    },
    {
     "data": {
      "image/png": "[encoded data removed]",
      "text/plain": [
       "<Figure size 432x288 with 1 Axes>"
      ]
     },
     "metadata": {
      "needs_background": "light"
     },
     "output_type": "display_data"
    }
   ],
   "source": [
    "df3.groupby('weekday').BillParty.describe().plot(kind='bar',title='Frequency of customers on weekday')\n",
    "plt.xlabel('Weekdays')\n",
    "plt.ylabel('Total_no_of_customers')"
   ]
  },
  {
   "cell_type": "code",
   "execution_count": 81,
   "metadata": {},
   "outputs": [
    {
     "data": {
      "text/plain": [
       "BillDate\n",
       "19-11-2018      2\n",
       "08-11-2018      5\n",
       "26-11-2018     24\n",
       "12-Mar-19      29\n",
       "18-12-2018     38\n",
       "             ... \n",
       "06-11-2018    174\n",
       "15-11-2018    177\n",
       "03-Mar-19     177\n",
       "04-11-2018    191\n",
       "05-Mar-19     200\n",
       "Name: BillParty, Length: 113, dtype: int64"
      ]
     },
     "execution_count": 81,
     "metadata": {},
     "output_type": "execute_result"
    }
   ],
   "source": [
    "#np.size means no of party on a particular date\n",
    "df3=df.groupby(['BillDate','BillNo']).agg(np.size)['BillParty']\n",
    "df3=df3.groupby('BillDate').agg(np.size)\n",
    "df3.sort_values()\n",
    "\n",
    "# df.ProdCategory.value_counts()\n",
    "# df.sample(15)"
   ]
  },
  {
   "cell_type": "code",
   "execution_count": 19,
   "metadata": {},
   "outputs": [
    {
     "data": {
      "text/plain": [
       "count     4293\n",
       "unique      60\n",
       "top       MILK\n",
       "freq      2037\n",
       "Name: BillProdName, dtype: object"
      ]
     },
     "execution_count": 19,
     "metadata": {},
     "output_type": "execute_result"
    }
   ],
   "source": [
    "df4=df.loc[df.ProdCategory =='MILK PRODUCTS',['BillQty','BillProdName']]\n",
    "df4.BillProdName.value_counts()\n",
    "df4.BillProdName.describe()"
   ]
  },
  {
   "cell_type": "code",
   "execution_count": 67,
   "metadata": {},
   "outputs": [
    {
     "data": {
      "text/plain": [
       "Text(0.5, 0, 'Categories')"
      ]
     },
     "execution_count": 67,
     "metadata": {},
     "output_type": "execute_result"
    },
    {
     "data": {
      "image/png": "[encoded data removed]",
      "text/plain": [
       "<Figure size 432x288 with 1 Axes>"
      ]
     },
     "metadata": {
      "needs_background": "light"
     },
     "output_type": "display_data"
    }
   ],
   "source": [
    "#category wise revenue of differnt categories\n",
    "df.groupby('ProdCategory').BillAmt.sum().plot(kind='bar',title='revenue of differnt categories')\n",
    "plt.ylabel('BillAmt')\n",
    "plt.xlabel('Categories')\n",
    "# df.groupby('ProdCategory').BillAmt.sum()\n"
   ]
  },
  {
   "cell_type": "code",
   "execution_count": 21,
   "metadata": {},
   "outputs": [
    {
     "data": {
      "text/html": [
       "<div>\n",
       "<style scoped>\n",
       "    .dataframe tbody tr th:only-of-type {\n",
       "        vertical-align: middle;\n",
       "    }\n",
       "\n",
       "    .dataframe tbody tr th {\n",
       "        vertical-align: top;\n",
       "    }\n",
       "\n",
       "    .dataframe thead th {\n",
       "        text-align: right;\n",
       "    }\n",
       "</style>\n",
       "<table border=\"1\" class=\"dataframe\">\n",
       "  <thead>\n",
       "    <tr style=\"text-align: right;\">\n",
       "      <th></th>\n",
       "      <th>BillProdName</th>\n",
       "    </tr>\n",
       "  </thead>\n",
       "  <tbody>\n",
       "    <tr>\n",
       "      <th>0</th>\n",
       "      <td>BATAKA</td>\n",
       "    </tr>\n",
       "    <tr>\n",
       "      <th>1</th>\n",
       "      <td>DUNGRI</td>\n",
       "    </tr>\n",
       "    <tr>\n",
       "      <th>2</th>\n",
       "      <td>RINGAN BHARTHA</td>\n",
       "    </tr>\n",
       "    <tr>\n",
       "      <th>3</th>\n",
       "      <td>GAJAR</td>\n",
       "    </tr>\n",
       "    <tr>\n",
       "      <th>4</th>\n",
       "      <td>BANANA</td>\n",
       "    </tr>\n",
       "    <tr>\n",
       "      <th>...</th>\n",
       "      <td>...</td>\n",
       "    </tr>\n",
       "    <tr>\n",
       "      <th>27989</th>\n",
       "      <td>FLOWER</td>\n",
       "    </tr>\n",
       "    <tr>\n",
       "      <th>27990</th>\n",
       "      <td>RINGAN VISNAGARI</td>\n",
       "    </tr>\n",
       "    <tr>\n",
       "      <th>27991</th>\n",
       "      <td>SAKKARIYA</td>\n",
       "    </tr>\n",
       "    <tr>\n",
       "      <th>27992</th>\n",
       "      <td>RINGAN LAMBA</td>\n",
       "    </tr>\n",
       "    <tr>\n",
       "      <th>27993</th>\n",
       "      <td>MARCHA</td>\n",
       "    </tr>\n",
       "  </tbody>\n",
       "</table>\n",
       "<p>8314 rows × 1 columns</p>\n",
       "</div>"
      ],
      "text/plain": [
       "           BillProdName\n",
       "0                BATAKA\n",
       "1                DUNGRI\n",
       "2        RINGAN BHARTHA\n",
       "3                 GAJAR\n",
       "4                BANANA\n",
       "...                 ...\n",
       "27989            FLOWER\n",
       "27990  RINGAN VISNAGARI\n",
       "27991         SAKKARIYA\n",
       "27992      RINGAN LAMBA\n",
       "27993            MARCHA\n",
       "\n",
       "[8314 rows x 1 columns]"
      ]
     },
     "execution_count": 21,
     "metadata": {},
     "output_type": "execute_result"
    }
   ],
   "source": [
    "df.month.value_counts()\n",
    "df.loc[(df.month=='01') & (df.year=='2019'),['BillProdName']]\n"
   ]
  },
  {
   "cell_type": "code",
   "execution_count": 26,
   "metadata": {},
   "outputs": [
    {
     "data": {
      "text/plain": [
       "<matplotlib.axes._subplots.AxesSubplot at 0x25fdcba8e48>"
      ]
     },
     "execution_count": 26,
     "metadata": {},
     "output_type": "execute_result"
    },
    {
     "data": {
      "image/png": "[encoded data removed]",
      "text/plain": [
       "<Figure size 432x288 with 1 Axes>"
      ]
     },
     "metadata": {
      "needs_background": "light"
     },
     "output_type": "display_data"
    }
   ],
   "source": [
    "df5 = df.groupby(['month','ProdCategory']).agg(np.size)['BillProdName']\n",
    "# print(df5.unstack())\n",
    "df5.groupby('month').sum().plot(kind='bar',title='Monthly Product Demand')\n",
    "# df5.groupby('month').describe() #----------01 month avg 755 products........"
   ]
  },
  {
   "cell_type": "code",
   "execution_count": 22,
   "metadata": {},
   "outputs": [],
   "source": [
    "df5 = df.groupby(['month','ProdCategory']).agg(np.size)['BillProdName']\n",
    "df5.groupby('month').sum().plot(kind='bar',title='Monthly Product Demand')"
   ]
  },
  {
   "cell_type": "code",
   "execution_count": 72,
   "metadata": {},
   "outputs": [
    {
     "data": {
      "text/plain": [
       "<matplotlib.axes._subplots.AxesSubplot at 0x25fdf16d508>"
      ]
     },
     "execution_count": 72,
     "metadata": {},
     "output_type": "execute_result"
    },
    {
     "data": {
      "image/png": "[encoded data removed]",
      "text/plain": [
       "<Figure size 432x288 with 1 Axes>"
      ]
     },
     "metadata": {
      "needs_background": "light"
     },
     "output_type": "display_data"
    }
   ],
   "source": [
    "df['Profit'] = df['ProdSRate'] - df['ProdPRate']\n",
    "df6 = df.groupby(['month','ProdCategory']).sum()['Profit'].unstack()\n",
    "# df6.loc[:,'BAKERY':'Vegetable'].apply(max)   #another method............\n",
    "df.groupby('ProdCategory').Profit.sum().plot(kind='bar',title='Total Profit Gain By Different Categories')"
   ]
  },
  {
   "cell_type": "code",
   "execution_count": 24,
   "metadata": {},
   "outputs": [
    {
     "data": {
      "text/plain": [
       "<matplotlib.axes._subplots.AxesSubplot at 0x25fdcac2608>"
      ]
     },
     "execution_count": 24,
     "metadata": {},
     "output_type": "execute_result"
    },
    {
     "data": {
      "image/png": "[encoded data removed]",
      "text/plain": [
       "<Figure size 432x288 with 1 Axes>"
      ]
     },
     "metadata": {
      "needs_background": "light"
     },
     "output_type": "display_data"
    }
   ],
   "source": [
    "df['Profit'] = df['ProdSRate'] - df['ProdPRate']\n",
    "df.groupby('ProdCategory').Profit.agg(['max','min']).plot(kind='bar',title='Max Profit Gain By Different Categories')"
   ]
  },
  {
   "cell_type": "code",
   "execution_count": 31,
   "metadata": {},
   "outputs": [
    {
     "data": {
      "text/html": [
       "<div>\n",
       "<style scoped>\n",
       "    .dataframe tbody tr th:only-of-type {\n",
       "        vertical-align: middle;\n",
       "    }\n",
       "\n",
       "    .dataframe tbody tr th {\n",
       "        vertical-align: top;\n",
       "    }\n",
       "\n",
       "    .dataframe thead th {\n",
       "        text-align: right;\n",
       "    }\n",
       "</style>\n",
       "<table border=\"1\" class=\"dataframe\">\n",
       "  <thead>\n",
       "    <tr style=\"text-align: right;\">\n",
       "      <th></th>\n",
       "      <th>BillNo</th>\n",
       "      <th>BillQty</th>\n",
       "      <th>BillParty</th>\n",
       "      <th>BillDate</th>\n",
       "      <th>BillProdNo</th>\n",
       "      <th>BillProdCode</th>\n",
       "      <th>BillProdName</th>\n",
       "      <th>BillProdPacking</th>\n",
       "      <th>BillProdBatch</th>\n",
       "      <th>BillAddTax</th>\n",
       "      <th>...</th>\n",
       "      <th>BillFree</th>\n",
       "      <th>BillPTS</th>\n",
       "      <th>BillPartyType</th>\n",
       "      <th>ProdCategory</th>\n",
       "      <th>ProdPRate</th>\n",
       "      <th>ProdSRate</th>\n",
       "      <th>Profit</th>\n",
       "      <th>month</th>\n",
       "      <th>year</th>\n",
       "      <th>weekday</th>\n",
       "    </tr>\n",
       "  </thead>\n",
       "  <tbody>\n",
       "    <tr>\n",
       "      <th>0</th>\n",
       "      <td>E1617-75852</td>\n",
       "      <td>10.00</td>\n",
       "      <td>NaN</td>\n",
       "      <td>2019-01-16</td>\n",
       "      <td>2</td>\n",
       "      <td>BAT01</td>\n",
       "      <td>BATAKA</td>\n",
       "      <td>NaN</td>\n",
       "      <td>NaN</td>\n",
       "      <td>0</td>\n",
       "      <td>...</td>\n",
       "      <td>0.0</td>\n",
       "      <td>NaN</td>\n",
       "      <td>R</td>\n",
       "      <td>Vegetable</td>\n",
       "      <td>12.000</td>\n",
       "      <td>18.0</td>\n",
       "      <td>6.000</td>\n",
       "      <td>01</td>\n",
       "      <td>2019</td>\n",
       "      <td>Wednesday</td>\n",
       "    </tr>\n",
       "    <tr>\n",
       "      <th>1</th>\n",
       "      <td>E1617-75852</td>\n",
       "      <td>6.00</td>\n",
       "      <td>NaN</td>\n",
       "      <td>2019-01-16</td>\n",
       "      <td>1</td>\n",
       "      <td>DUN01</td>\n",
       "      <td>DUNGRI</td>\n",
       "      <td>NaN</td>\n",
       "      <td>NaN</td>\n",
       "      <td>0</td>\n",
       "      <td>...</td>\n",
       "      <td>0.0</td>\n",
       "      <td>NaN</td>\n",
       "      <td>R</td>\n",
       "      <td>Vegetable</td>\n",
       "      <td>10.000</td>\n",
       "      <td>16.0</td>\n",
       "      <td>6.000</td>\n",
       "      <td>01</td>\n",
       "      <td>2019</td>\n",
       "      <td>Wednesday</td>\n",
       "    </tr>\n",
       "    <tr>\n",
       "      <th>2</th>\n",
       "      <td>E1617-75853</td>\n",
       "      <td>3.00</td>\n",
       "      <td>HAREKRISHNA BAKERY</td>\n",
       "      <td>2019-01-16</td>\n",
       "      <td>1</td>\n",
       "      <td>RIN07</td>\n",
       "      <td>RINGAN BHARTHA</td>\n",
       "      <td>NaN</td>\n",
       "      <td>NaN</td>\n",
       "      <td>0</td>\n",
       "      <td>...</td>\n",
       "      <td>0.0</td>\n",
       "      <td>NaN</td>\n",
       "      <td>R</td>\n",
       "      <td>Vegetable</td>\n",
       "      <td>35.000</td>\n",
       "      <td>52.0</td>\n",
       "      <td>17.000</td>\n",
       "      <td>01</td>\n",
       "      <td>2019</td>\n",
       "      <td>Wednesday</td>\n",
       "    </tr>\n",
       "    <tr>\n",
       "      <th>3</th>\n",
       "      <td>E1617-75854</td>\n",
       "      <td>0.25</td>\n",
       "      <td>NaN</td>\n",
       "      <td>2019-01-16</td>\n",
       "      <td>1</td>\n",
       "      <td>GAJ01</td>\n",
       "      <td>GAJAR</td>\n",
       "      <td>NaN</td>\n",
       "      <td>NaN</td>\n",
       "      <td>0</td>\n",
       "      <td>...</td>\n",
       "      <td>0.0</td>\n",
       "      <td>NaN</td>\n",
       "      <td>R</td>\n",
       "      <td>Vegetable</td>\n",
       "      <td>13.000</td>\n",
       "      <td>24.0</td>\n",
       "      <td>11.000</td>\n",
       "      <td>01</td>\n",
       "      <td>2019</td>\n",
       "      <td>Wednesday</td>\n",
       "    </tr>\n",
       "    <tr>\n",
       "      <th>4</th>\n",
       "      <td>E1617-75855</td>\n",
       "      <td>3.00</td>\n",
       "      <td>NaN</td>\n",
       "      <td>2019-01-16</td>\n",
       "      <td>1</td>\n",
       "      <td>BAN01</td>\n",
       "      <td>BANANA</td>\n",
       "      <td>NaN</td>\n",
       "      <td>NaN</td>\n",
       "      <td>0</td>\n",
       "      <td>...</td>\n",
       "      <td>0.0</td>\n",
       "      <td>NaN</td>\n",
       "      <td>R</td>\n",
       "      <td>Fruit</td>\n",
       "      <td>23.334</td>\n",
       "      <td>40.0</td>\n",
       "      <td>16.666</td>\n",
       "      <td>01</td>\n",
       "      <td>2019</td>\n",
       "      <td>Wednesday</td>\n",
       "    </tr>\n",
       "  </tbody>\n",
       "</table>\n",
       "<p>5 rows × 25 columns</p>\n",
       "</div>"
      ],
      "text/plain": [
       "        BillNo  BillQty           BillParty   BillDate  BillProdNo  \\\n",
       "0  E1617-75852    10.00                 NaN 2019-01-16           2   \n",
       "1  E1617-75852     6.00                 NaN 2019-01-16           1   \n",
       "2  E1617-75853     3.00  HAREKRISHNA BAKERY 2019-01-16           1   \n",
       "3  E1617-75854     0.25                 NaN 2019-01-16           1   \n",
       "4  E1617-75855     3.00                 NaN 2019-01-16           1   \n",
       "\n",
       "  BillProdCode    BillProdName  BillProdPacking  BillProdBatch  BillAddTax  \\\n",
       "0        BAT01          BATAKA              NaN            NaN           0   \n",
       "1        DUN01          DUNGRI              NaN            NaN           0   \n",
       "2        RIN07  RINGAN BHARTHA              NaN            NaN           0   \n",
       "3        GAJ01           GAJAR              NaN            NaN           0   \n",
       "4        BAN01          BANANA              NaN            NaN           0   \n",
       "\n",
       "   ...  BillFree  BillPTS  BillPartyType  ProdCategory  ProdPRate  ProdSRate  \\\n",
       "0  ...       0.0      NaN              R     Vegetable     12.000       18.0   \n",
       "1  ...       0.0      NaN              R     Vegetable     10.000       16.0   \n",
       "2  ...       0.0      NaN              R     Vegetable     35.000       52.0   \n",
       "3  ...       0.0      NaN              R     Vegetable     13.000       24.0   \n",
       "4  ...       0.0      NaN              R         Fruit     23.334       40.0   \n",
       "\n",
       "   Profit month  year    weekday  \n",
       "0   6.000    01  2019  Wednesday  \n",
       "1   6.000    01  2019  Wednesday  \n",
       "2  17.000    01  2019  Wednesday  \n",
       "3  11.000    01  2019  Wednesday  \n",
       "4  16.666    01  2019  Wednesday  \n",
       "\n",
       "[5 rows x 25 columns]"
      ]
     },
     "execution_count": 31,
     "metadata": {},
     "output_type": "execute_result"
    }
   ],
   "source": [
    "df.head()"
   ]
  },
  {
   "cell_type": "code",
   "execution_count": 35,
   "metadata": {},
   "outputs": [
    {
     "data": {
      "text/plain": [
       "10.00      1930\n",
       "20.00      1790\n",
       "30.00      1151\n",
       "15.00      1085\n",
       "40.00       984\n",
       "           ... \n",
       "72.38         1\n",
       "41.55         1\n",
       "2100.00       1\n",
       "3.43          1\n",
       "262.85        1\n",
       "Name: BillAmt, Length: 5109, dtype: int64"
      ]
     },
     "execution_count": 35,
     "metadata": {},
     "output_type": "execute_result"
    }
   ],
   "source": [
    "df.ProdCategory.value_counts()\n",
    "df.BillAmt.value_counts()"
   ]
  },
  {
   "cell_type": "code",
   "execution_count": 65,
   "metadata": {},
   "outputs": [
    {
     "data": {
      "text/plain": [
       "Text(0, 0.5, 'Percentage Value')"
      ]
     },
     "execution_count": 65,
     "metadata": {},
     "output_type": "execute_result"
    },
    {
     "data": {
      "image/png": "[encoded data removed]",
      "text/plain": [
       "<Figure size 432x288 with 1 Axes>"
      ]
     },
     "metadata": {
      "needs_background": "light"
     },
     "output_type": "display_data"
    }
   ],
   "source": [
    "val=df.BillAmt.sum()\n",
    "catego=(df.groupby('ProdCategory').BillAmt.sum()/val * 100)\n",
    "catego.plot(kind='bar',title='Percentage of BillAmount in total Amount')\n",
    "plt.xlabel('ProdcutCategory')\n",
    "plt.ylabel('Percentage Value')"
   ]
  },
  {
   "cell_type": "code",
   "execution_count": 13,
   "metadata": {},
   "outputs": [],
   "source": [
    "df = pd.read_csv('Combine_Data.csv',parse_dates=['BillDate'],encoding='UTF-8')"
   ]
  }
 ],
 "metadata": {
  "kernelspec": {
   "display_name": "Python 3",
   "language": "python",
   "name": "python3"
  },
  "language_info": {
   "codemirror_mode": {
    "name": "ipython",
    "version": 3
   },
   "file_extension": ".py",
   "mimetype": "text/x-python",
   "name": "python",
   "nbconvert_exporter": "python",
   "pygments_lexer": "ipython3",
   "version": "3.7.6"
  }
 },
 "nbformat": 4,
 "nbformat_minor": 4
}
