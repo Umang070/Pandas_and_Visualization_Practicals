{
 "cells": [
  {
   "cell_type": "markdown",
   "metadata": {},
   "source": [
    "\n",
    "### Data exploration and visualization using mathematical and statistical tools."
   ]
  },
  {
   "cell_type": "markdown",
   "metadata": {},
   "source": [
    "#### Exploring Dataset\n",
    "\n",
    "The dataset has shape (42822,19)      \n",
    "No of Rows are 42822 and No of Columns are 19          \n",
    "From total columns 11 Columns are Numeric and 8 columns are type Object     \n"
   ]
  },
  {
   "cell_type": "code",
   "execution_count": 1,
   "metadata": {},
   "outputs": [],
   "source": [
    "import pandas as pd\n",
    "import matplotlib.pyplot as plt\n",
    "import numpy as np\n",
    "from matplotlib import style\n",
    "style.use('ggplot')\n",
    "plt.rcParams['figure.figsize'] = 10,7"
   ]
  },
  {
   "cell_type": "code",
   "execution_count": 2,
   "metadata": {},
   "outputs": [],
   "source": [
    "df = pd.read_csv(\"Combine_Data.csv\",parse_dates=['BillDate'])"
   ]
  },
  {
   "cell_type": "code",
   "execution_count": 3,
   "metadata": {},
   "outputs": [
    {
     "data": {
      "text/html": [
       "<div>\n",
       "<style scoped>\n",
       "    .dataframe tbody tr th:only-of-type {\n",
       "        vertical-align: middle;\n",
       "    }\n",
       "\n",
       "    .dataframe tbody tr th {\n",
       "        vertical-align: top;\n",
       "    }\n",
       "\n",
       "    .dataframe thead th {\n",
       "        text-align: right;\n",
       "    }\n",
       "</style>\n",
       "<table border=\"1\" class=\"dataframe\">\n",
       "  <thead>\n",
       "    <tr style=\"text-align: right;\">\n",
       "      <th></th>\n",
       "      <th>BillNo</th>\n",
       "      <th>BillQty</th>\n",
       "      <th>BillParty</th>\n",
       "      <th>BillDate</th>\n",
       "      <th>BillProdNo</th>\n",
       "      <th>BillProdCode</th>\n",
       "      <th>BillProdName</th>\n",
       "      <th>BillAddTax</th>\n",
       "      <th>BillRate</th>\n",
       "      <th>BillVat</th>\n",
       "      <th>BillAmt</th>\n",
       "      <th>BillFree</th>\n",
       "      <th>BillPartyType</th>\n",
       "      <th>ProdCategory</th>\n",
       "      <th>ProdPRate</th>\n",
       "      <th>ProdSRate</th>\n",
       "      <th>month</th>\n",
       "      <th>year</th>\n",
       "      <th>weekday</th>\n",
       "    </tr>\n",
       "  </thead>\n",
       "  <tbody>\n",
       "    <tr>\n",
       "      <th>0</th>\n",
       "      <td>E1617-75852</td>\n",
       "      <td>10.00</td>\n",
       "      <td>NaN</td>\n",
       "      <td>2019-01-16</td>\n",
       "      <td>2</td>\n",
       "      <td>BAT01</td>\n",
       "      <td>BATAKA</td>\n",
       "      <td>0</td>\n",
       "      <td>14.0</td>\n",
       "      <td>0.0</td>\n",
       "      <td>140.0</td>\n",
       "      <td>0.0</td>\n",
       "      <td>R</td>\n",
       "      <td>Vegetable</td>\n",
       "      <td>12.000</td>\n",
       "      <td>18.0</td>\n",
       "      <td>1</td>\n",
       "      <td>2019</td>\n",
       "      <td>Wednesday</td>\n",
       "    </tr>\n",
       "    <tr>\n",
       "      <th>1</th>\n",
       "      <td>E1617-75852</td>\n",
       "      <td>6.00</td>\n",
       "      <td>NaN</td>\n",
       "      <td>2019-01-16</td>\n",
       "      <td>1</td>\n",
       "      <td>DUN01</td>\n",
       "      <td>DUNGRI</td>\n",
       "      <td>0</td>\n",
       "      <td>12.0</td>\n",
       "      <td>0.0</td>\n",
       "      <td>72.0</td>\n",
       "      <td>0.0</td>\n",
       "      <td>R</td>\n",
       "      <td>Vegetable</td>\n",
       "      <td>10.000</td>\n",
       "      <td>16.0</td>\n",
       "      <td>1</td>\n",
       "      <td>2019</td>\n",
       "      <td>Wednesday</td>\n",
       "    </tr>\n",
       "    <tr>\n",
       "      <th>2</th>\n",
       "      <td>E1617-75853</td>\n",
       "      <td>3.00</td>\n",
       "      <td>HAREKRISHNA BAKERY</td>\n",
       "      <td>2019-01-16</td>\n",
       "      <td>1</td>\n",
       "      <td>RIN07</td>\n",
       "      <td>RINGAN BHARTHA</td>\n",
       "      <td>0</td>\n",
       "      <td>38.0</td>\n",
       "      <td>0.0</td>\n",
       "      <td>114.0</td>\n",
       "      <td>0.0</td>\n",
       "      <td>R</td>\n",
       "      <td>Vegetable</td>\n",
       "      <td>35.000</td>\n",
       "      <td>52.0</td>\n",
       "      <td>1</td>\n",
       "      <td>2019</td>\n",
       "      <td>Wednesday</td>\n",
       "    </tr>\n",
       "    <tr>\n",
       "      <th>3</th>\n",
       "      <td>E1617-75854</td>\n",
       "      <td>0.25</td>\n",
       "      <td>NaN</td>\n",
       "      <td>2019-01-16</td>\n",
       "      <td>1</td>\n",
       "      <td>GAJ01</td>\n",
       "      <td>GAJAR</td>\n",
       "      <td>0</td>\n",
       "      <td>24.0</td>\n",
       "      <td>0.0</td>\n",
       "      <td>6.0</td>\n",
       "      <td>0.0</td>\n",
       "      <td>R</td>\n",
       "      <td>Vegetable</td>\n",
       "      <td>13.000</td>\n",
       "      <td>24.0</td>\n",
       "      <td>1</td>\n",
       "      <td>2019</td>\n",
       "      <td>Wednesday</td>\n",
       "    </tr>\n",
       "    <tr>\n",
       "      <th>4</th>\n",
       "      <td>E1617-75855</td>\n",
       "      <td>3.00</td>\n",
       "      <td>NaN</td>\n",
       "      <td>2019-01-16</td>\n",
       "      <td>1</td>\n",
       "      <td>BAN01</td>\n",
       "      <td>BANANA</td>\n",
       "      <td>0</td>\n",
       "      <td>3.4</td>\n",
       "      <td>0.0</td>\n",
       "      <td>10.2</td>\n",
       "      <td>0.0</td>\n",
       "      <td>R</td>\n",
       "      <td>Fruit</td>\n",
       "      <td>23.334</td>\n",
       "      <td>40.0</td>\n",
       "      <td>1</td>\n",
       "      <td>2019</td>\n",
       "      <td>Wednesday</td>\n",
       "    </tr>\n",
       "  </tbody>\n",
       "</table>\n",
       "</div>"
      ],
      "text/plain": [
       "        BillNo  BillQty           BillParty   BillDate  BillProdNo  \\\n",
       "0  E1617-75852    10.00                 NaN 2019-01-16           2   \n",
       "1  E1617-75852     6.00                 NaN 2019-01-16           1   \n",
       "2  E1617-75853     3.00  HAREKRISHNA BAKERY 2019-01-16           1   \n",
       "3  E1617-75854     0.25                 NaN 2019-01-16           1   \n",
       "4  E1617-75855     3.00                 NaN 2019-01-16           1   \n",
       "\n",
       "  BillProdCode    BillProdName  BillAddTax  BillRate  BillVat  BillAmt  \\\n",
       "0        BAT01          BATAKA           0      14.0      0.0    140.0   \n",
       "1        DUN01          DUNGRI           0      12.0      0.0     72.0   \n",
       "2        RIN07  RINGAN BHARTHA           0      38.0      0.0    114.0   \n",
       "3        GAJ01           GAJAR           0      24.0      0.0      6.0   \n",
       "4        BAN01          BANANA           0       3.4      0.0     10.2   \n",
       "\n",
       "   BillFree BillPartyType ProdCategory  ProdPRate  ProdSRate  month  year  \\\n",
       "0       0.0             R    Vegetable     12.000       18.0      1  2019   \n",
       "1       0.0             R    Vegetable     10.000       16.0      1  2019   \n",
       "2       0.0             R    Vegetable     35.000       52.0      1  2019   \n",
       "3       0.0             R    Vegetable     13.000       24.0      1  2019   \n",
       "4       0.0             R        Fruit     23.334       40.0      1  2019   \n",
       "\n",
       "     weekday  \n",
       "0  Wednesday  \n",
       "1  Wednesday  \n",
       "2  Wednesday  \n",
       "3  Wednesday  \n",
       "4  Wednesday  "
      ]
     },
     "execution_count": 3,
     "metadata": {},
     "output_type": "execute_result"
    }
   ],
   "source": [
    "df.columns\n",
    "df.head()"
   ]
  },
  {
   "cell_type": "code",
   "execution_count": 4,
   "metadata": {},
   "outputs": [
    {
     "data": {
      "text/plain": [
       "BillNo               0\n",
       "BillQty              0\n",
       "BillParty        25735\n",
       "BillDate             0\n",
       "BillProdNo           0\n",
       "BillProdCode         1\n",
       "BillProdName         4\n",
       "BillAddTax           0\n",
       "BillRate             0\n",
       "BillVat              0\n",
       "BillAmt              0\n",
       "BillFree             0\n",
       "BillPartyType        0\n",
       "ProdCategory        34\n",
       "ProdPRate           57\n",
       "ProdSRate           44\n",
       "month                0\n",
       "year                 0\n",
       "weekday              0\n",
       "dtype: int64"
      ]
     },
     "execution_count": 4,
     "metadata": {},
     "output_type": "execute_result"
    }
   ],
   "source": [
    "df.isnull().sum()"
   ]
  },
  {
   "cell_type": "code",
   "execution_count": 4,
   "metadata": {},
   "outputs": [
    {
     "name": "stdout",
     "output_type": "stream",
     "text": [
      "<class 'pandas.core.frame.DataFrame'>\n",
      "RangeIndex: 42822 entries, 0 to 42821\n",
      "Data columns (total 19 columns):\n",
      " #   Column         Non-Null Count  Dtype  \n",
      "---  ------         --------------  -----  \n",
      " 0   BillNo         42822 non-null  object \n",
      " 1   BillQty        42822 non-null  float64\n",
      " 2   BillParty      17087 non-null  object \n",
      " 3   BillDate       42822 non-null  object \n",
      " 4   BillProdNo     42822 non-null  int64  \n",
      " 5   BillProdCode   42821 non-null  object \n",
      " 6   BillProdName   42818 non-null  object \n",
      " 7   BillAddTax     42822 non-null  int64  \n",
      " 8   BillRate       42822 non-null  float64\n",
      " 9   BillVat        42822 non-null  float64\n",
      " 10  BillAmt        42822 non-null  float64\n",
      " 11  BillFree       42822 non-null  float64\n",
      " 12  BillPartyType  42822 non-null  object \n",
      " 13  ProdCategory   42788 non-null  object \n",
      " 14  ProdPRate      42765 non-null  float64\n",
      " 15  ProdSRate      42778 non-null  float64\n",
      " 16  month          42822 non-null  int64  \n",
      " 17  year           42822 non-null  int64  \n",
      " 18  weekday        42822 non-null  object \n",
      "dtypes: float64(7), int64(4), object(8)\n",
      "memory usage: 6.2+ MB\n"
     ]
    }
   ],
   "source": [
    "df.info(memory_usage=True)"
   ]
  },
  {
   "cell_type": "code",
   "execution_count": 5,
   "metadata": {},
   "outputs": [
    {
     "data": {
      "text/html": [
       "<div>\n",
       "<style scoped>\n",
       "    .dataframe tbody tr th:only-of-type {\n",
       "        vertical-align: middle;\n",
       "    }\n",
       "\n",
       "    .dataframe tbody tr th {\n",
       "        vertical-align: top;\n",
       "    }\n",
       "\n",
       "    .dataframe thead th {\n",
       "        text-align: right;\n",
       "    }\n",
       "</style>\n",
       "<table border=\"1\" class=\"dataframe\">\n",
       "  <thead>\n",
       "    <tr style=\"text-align: right;\">\n",
       "      <th></th>\n",
       "      <th>BillNo</th>\n",
       "      <th>BillQty</th>\n",
       "      <th>BillParty</th>\n",
       "      <th>BillDate</th>\n",
       "      <th>BillProdNo</th>\n",
       "      <th>BillProdCode</th>\n",
       "      <th>BillProdName</th>\n",
       "      <th>BillAddTax</th>\n",
       "      <th>BillRate</th>\n",
       "      <th>BillVat</th>\n",
       "      <th>BillAmt</th>\n",
       "      <th>BillFree</th>\n",
       "      <th>BillPartyType</th>\n",
       "      <th>ProdCategory</th>\n",
       "      <th>ProdPRate</th>\n",
       "      <th>ProdSRate</th>\n",
       "      <th>month</th>\n",
       "      <th>year</th>\n",
       "      <th>weekday</th>\n",
       "    </tr>\n",
       "  </thead>\n",
       "  <tbody>\n",
       "    <tr>\n",
       "      <th>0</th>\n",
       "      <td>E1617-75852</td>\n",
       "      <td>10.00</td>\n",
       "      <td>NaN</td>\n",
       "      <td>2019-01-16</td>\n",
       "      <td>2</td>\n",
       "      <td>BAT01</td>\n",
       "      <td>BATAKA</td>\n",
       "      <td>0</td>\n",
       "      <td>14.0</td>\n",
       "      <td>0.0</td>\n",
       "      <td>140.0</td>\n",
       "      <td>0.0</td>\n",
       "      <td>R</td>\n",
       "      <td>Vegetable</td>\n",
       "      <td>12.000</td>\n",
       "      <td>18.0</td>\n",
       "      <td>1</td>\n",
       "      <td>2019</td>\n",
       "      <td>Wednesday</td>\n",
       "    </tr>\n",
       "    <tr>\n",
       "      <th>1</th>\n",
       "      <td>E1617-75852</td>\n",
       "      <td>6.00</td>\n",
       "      <td>NaN</td>\n",
       "      <td>2019-01-16</td>\n",
       "      <td>1</td>\n",
       "      <td>DUN01</td>\n",
       "      <td>DUNGRI</td>\n",
       "      <td>0</td>\n",
       "      <td>12.0</td>\n",
       "      <td>0.0</td>\n",
       "      <td>72.0</td>\n",
       "      <td>0.0</td>\n",
       "      <td>R</td>\n",
       "      <td>Vegetable</td>\n",
       "      <td>10.000</td>\n",
       "      <td>16.0</td>\n",
       "      <td>1</td>\n",
       "      <td>2019</td>\n",
       "      <td>Wednesday</td>\n",
       "    </tr>\n",
       "    <tr>\n",
       "      <th>2</th>\n",
       "      <td>E1617-75853</td>\n",
       "      <td>3.00</td>\n",
       "      <td>HAREKRISHNA BAKERY</td>\n",
       "      <td>2019-01-16</td>\n",
       "      <td>1</td>\n",
       "      <td>RIN07</td>\n",
       "      <td>RINGAN BHARTHA</td>\n",
       "      <td>0</td>\n",
       "      <td>38.0</td>\n",
       "      <td>0.0</td>\n",
       "      <td>114.0</td>\n",
       "      <td>0.0</td>\n",
       "      <td>R</td>\n",
       "      <td>Vegetable</td>\n",
       "      <td>35.000</td>\n",
       "      <td>52.0</td>\n",
       "      <td>1</td>\n",
       "      <td>2019</td>\n",
       "      <td>Wednesday</td>\n",
       "    </tr>\n",
       "    <tr>\n",
       "      <th>3</th>\n",
       "      <td>E1617-75854</td>\n",
       "      <td>0.25</td>\n",
       "      <td>NaN</td>\n",
       "      <td>2019-01-16</td>\n",
       "      <td>1</td>\n",
       "      <td>GAJ01</td>\n",
       "      <td>GAJAR</td>\n",
       "      <td>0</td>\n",
       "      <td>24.0</td>\n",
       "      <td>0.0</td>\n",
       "      <td>6.0</td>\n",
       "      <td>0.0</td>\n",
       "      <td>R</td>\n",
       "      <td>Vegetable</td>\n",
       "      <td>13.000</td>\n",
       "      <td>24.0</td>\n",
       "      <td>1</td>\n",
       "      <td>2019</td>\n",
       "      <td>Wednesday</td>\n",
       "    </tr>\n",
       "    <tr>\n",
       "      <th>4</th>\n",
       "      <td>E1617-75855</td>\n",
       "      <td>3.00</td>\n",
       "      <td>NaN</td>\n",
       "      <td>2019-01-16</td>\n",
       "      <td>1</td>\n",
       "      <td>BAN01</td>\n",
       "      <td>BANANA</td>\n",
       "      <td>0</td>\n",
       "      <td>3.4</td>\n",
       "      <td>0.0</td>\n",
       "      <td>10.2</td>\n",
       "      <td>0.0</td>\n",
       "      <td>R</td>\n",
       "      <td>Fruit</td>\n",
       "      <td>23.334</td>\n",
       "      <td>40.0</td>\n",
       "      <td>1</td>\n",
       "      <td>2019</td>\n",
       "      <td>Wednesday</td>\n",
       "    </tr>\n",
       "  </tbody>\n",
       "</table>\n",
       "</div>"
      ],
      "text/plain": [
       "        BillNo  BillQty           BillParty    BillDate  BillProdNo  \\\n",
       "0  E1617-75852    10.00                 NaN  2019-01-16           2   \n",
       "1  E1617-75852     6.00                 NaN  2019-01-16           1   \n",
       "2  E1617-75853     3.00  HAREKRISHNA BAKERY  2019-01-16           1   \n",
       "3  E1617-75854     0.25                 NaN  2019-01-16           1   \n",
       "4  E1617-75855     3.00                 NaN  2019-01-16           1   \n",
       "\n",
       "  BillProdCode    BillProdName  BillAddTax  BillRate  BillVat  BillAmt  \\\n",
       "0        BAT01          BATAKA           0      14.0      0.0    140.0   \n",
       "1        DUN01          DUNGRI           0      12.0      0.0     72.0   \n",
       "2        RIN07  RINGAN BHARTHA           0      38.0      0.0    114.0   \n",
       "3        GAJ01           GAJAR           0      24.0      0.0      6.0   \n",
       "4        BAN01          BANANA           0       3.4      0.0     10.2   \n",
       "\n",
       "   BillFree BillPartyType ProdCategory  ProdPRate  ProdSRate  month  year  \\\n",
       "0       0.0             R    Vegetable     12.000       18.0      1  2019   \n",
       "1       0.0             R    Vegetable     10.000       16.0      1  2019   \n",
       "2       0.0             R    Vegetable     35.000       52.0      1  2019   \n",
       "3       0.0             R    Vegetable     13.000       24.0      1  2019   \n",
       "4       0.0             R        Fruit     23.334       40.0      1  2019   \n",
       "\n",
       "     weekday  \n",
       "0  Wednesday  \n",
       "1  Wednesday  \n",
       "2  Wednesday  \n",
       "3  Wednesday  \n",
       "4  Wednesday  "
      ]
     },
     "execution_count": 5,
     "metadata": {},
     "output_type": "execute_result"
    }
   ],
   "source": [
    "#first five rows of dataset\n",
    "df.head(5) "
   ]
  },
  {
   "cell_type": "code",
   "execution_count": 6,
   "metadata": {},
   "outputs": [
    {
     "data": {
      "text/plain": [
       "(42822, 19)"
      ]
     },
     "execution_count": 6,
     "metadata": {},
     "output_type": "execute_result"
    }
   ],
   "source": [
    "df.shape"
   ]
  },
  {
   "cell_type": "code",
   "execution_count": 7,
   "metadata": {},
   "outputs": [
    {
     "data": {
      "text/plain": [
       "461"
      ]
     },
     "execution_count": 7,
     "metadata": {},
     "output_type": "execute_result"
    }
   ],
   "source": [
    "df.isnull().sum()           #total no of null values for each col\n",
    "df.BillProdName.nunique()"
   ]
  },
  {
   "cell_type": "code",
   "execution_count": 8,
   "metadata": {},
   "outputs": [
    {
     "name": "stdout",
     "output_type": "stream",
     "text": [
      "Index(['Vegetable', 'Fruit', 'MILK PRODUCTS', 'BAKERY', 'Other', 'SNACKS',\n",
      "       'MASALA', 'ICE CREAMS', 'JUICES', 'SIKANDAR', 'PIZZA PASTA', 'TOTAL',\n",
      "       'KHEERU'],\n",
      "      dtype='object')\n"
     ]
    },
    {
     "data": {
      "text/plain": [
       "array([6.23773020e+01, 1.91221838e+01, 1.00331869e+01, 3.29531644e+00,\n",
       "       2.56614004e+00, 1.65466953e+00, 4.18341591e-01, 1.77619893e-01,\n",
       "       1.75282790e-01, 1.02832570e-01, 4.67420772e-02, 2.57081425e-02,\n",
       "       4.67420772e-03])"
      ]
     },
     "execution_count": 8,
     "metadata": {},
     "output_type": "execute_result"
    }
   ],
   "source": [
    "category=df.ProdCategory.value_counts(normalize=True)*100        #percentage of different categories\n",
    "print(category.index)             #unique categories in dataset\n",
    "category.values\n"
   ]
  },
  {
   "cell_type": "code",
   "execution_count": 9,
   "metadata": {},
   "outputs": [],
   "source": [
    "%matplotlib inline"
   ]
  },
  {
   "cell_type": "code",
   "execution_count": 10,
   "metadata": {},
   "outputs": [
    {
     "data": {
      "image/png": "[encoded data removed]",
      "text/plain": [
       "<Figure size 432x288 with 1 Axes>"
      ]
     },
     "metadata": {},
     "output_type": "display_data"
    }
   ],
   "source": [
    "explode = [0,0.2,0,0,0,0,0]\n",
    "patches,texts,autotext=plt.pie(category.values[:7],labels=category.index[:7],autopct='% 0.1f%%',textprops={'size':'smaller'},radius=1,explode=explode,shadow=True,rotatelabels=True,wedgeprops={'width':0.7})\n",
    "plt.legend(loc='center left',bbox_to_anchor=(1.3, 0.5),fontsize=10,markerfirst = False,title='color_with_labels',borderpad=1,handlelength=0.8,handletextpad=0.9)\n",
    "\n",
    "# Make percent texts even smaller\n",
    "# plt.setp(autotext,size='x-small')\n",
    "autotext[0].set_color('white')\n",
    "\n",
    "\n"
   ]
  },
  {
   "cell_type": "code",
   "execution_count": 11,
   "metadata": {},
   "outputs": [],
   "source": [
    "df['BillDate'] = pd.to_datetime(df.BillDate)"
   ]
  },
  {
   "cell_type": "code",
   "execution_count": 12,
   "metadata": {},
   "outputs": [],
   "source": [
    "df['month']=df.BillDate.dt.month.astype(str).str.pad(width=2,fillchar=\"0\")\n",
    "df['year']=df.BillDate.dt.year.astype(str)\n",
    "df['weekday'] = df.BillDate.dt.day_name()\n"
   ]
  },
  {
   "cell_type": "code",
   "execution_count": 13,
   "metadata": {},
   "outputs": [
    {
     "data": {
      "text/html": [
       "<div>\n",
       "<style scoped>\n",
       "    .dataframe tbody tr th:only-of-type {\n",
       "        vertical-align: middle;\n",
       "    }\n",
       "\n",
       "    .dataframe tbody tr th {\n",
       "        vertical-align: top;\n",
       "    }\n",
       "\n",
       "    .dataframe thead th {\n",
       "        text-align: right;\n",
       "    }\n",
       "</style>\n",
       "<table border=\"1\" class=\"dataframe\">\n",
       "  <thead>\n",
       "    <tr style=\"text-align: right;\">\n",
       "      <th></th>\n",
       "      <th>count</th>\n",
       "      <th>unique</th>\n",
       "      <th>top</th>\n",
       "      <th>freq</th>\n",
       "    </tr>\n",
       "    <tr>\n",
       "      <th>weekday</th>\n",
       "      <th></th>\n",
       "      <th></th>\n",
       "      <th></th>\n",
       "      <th></th>\n",
       "    </tr>\n",
       "  </thead>\n",
       "  <tbody>\n",
       "    <tr>\n",
       "      <th>Friday</th>\n",
       "      <td>356</td>\n",
       "      <td>71</td>\n",
       "      <td>BIPINBHAI PRABHUDAS</td>\n",
       "      <td>30</td>\n",
       "    </tr>\n",
       "    <tr>\n",
       "      <th>Monday</th>\n",
       "      <td>266</td>\n",
       "      <td>47</td>\n",
       "      <td>AXILAM</td>\n",
       "      <td>41</td>\n",
       "    </tr>\n",
       "    <tr>\n",
       "      <th>Saturday</th>\n",
       "      <td>318</td>\n",
       "      <td>50</td>\n",
       "      <td>NAVINBHAI PATEL</td>\n",
       "      <td>31</td>\n",
       "    </tr>\n",
       "    <tr>\n",
       "      <th>Sunday</th>\n",
       "      <td>362</td>\n",
       "      <td>53</td>\n",
       "      <td>AAKODRAWALA</td>\n",
       "      <td>29</td>\n",
       "    </tr>\n",
       "    <tr>\n",
       "      <th>Thursday</th>\n",
       "      <td>106</td>\n",
       "      <td>26</td>\n",
       "      <td>RAM BABU</td>\n",
       "      <td>9</td>\n",
       "    </tr>\n",
       "    <tr>\n",
       "      <th>Tuesday</th>\n",
       "      <td>159</td>\n",
       "      <td>29</td>\n",
       "      <td>DIPAKBHAI V SUTHAR</td>\n",
       "      <td>15</td>\n",
       "    </tr>\n",
       "    <tr>\n",
       "      <th>Wednesday</th>\n",
       "      <td>125</td>\n",
       "      <td>24</td>\n",
       "      <td>BRAHMAKUMARI LATABEN</td>\n",
       "      <td>10</td>\n",
       "    </tr>\n",
       "  </tbody>\n",
       "</table>\n",
       "</div>"
      ],
      "text/plain": [
       "          count unique                   top freq\n",
       "weekday                                          \n",
       "Friday      356     71   BIPINBHAI PRABHUDAS   30\n",
       "Monday      266     47                AXILAM   41\n",
       "Saturday    318     50       NAVINBHAI PATEL   31\n",
       "Sunday      362     53           AAKODRAWALA   29\n",
       "Thursday    106     26              RAM BABU    9\n",
       "Tuesday     159     29    DIPAKBHAI V SUTHAR   15\n",
       "Wednesday   125     24  BRAHMAKUMARI LATABEN   10"
      ]
     },
     "execution_count": 13,
     "metadata": {},
     "output_type": "execute_result"
    }
   ],
   "source": [
    "df1=df.loc[(df.year=='2019') & (df.month=='03'),['BillParty','weekday']].copy()\n",
    "df1.groupby('weekday').BillParty.describe()\n"
   ]
  },
  {
   "cell_type": "code",
   "execution_count": 14,
   "metadata": {},
   "outputs": [
    {
     "data": {
      "text/plain": [
       "Text(0, 0.5, 'Total_no_of_customers')"
      ]
     },
     "execution_count": 14,
     "metadata": {},
     "output_type": "execute_result"
    },
    {
     "data": {
      "image/png": "[encoded data removed]",
      "text/plain": [
       "<Figure size 432x288 with 1 Axes>"
      ]
     },
     "metadata": {
      "needs_background": "light"
     },
     "output_type": "display_data"
    }
   ],
   "source": [
    "df1.groupby('weekday').BillParty.describe().plot(kind='bar',title='Frequency of customers on weekday')\n",
    "plt.xlabel('Weekdays')\n",
    "plt.ylabel('Total_no_of_customers')"
   ]
  },
  {
   "cell_type": "code",
   "execution_count": 15,
   "metadata": {},
   "outputs": [
    {
     "data": {
      "text/plain": [
       "BillDate\n",
       "2018-11-19      2\n",
       "2018-08-11      5\n",
       "2018-11-26     24\n",
       "2019-03-12     29\n",
       "2018-12-18     38\n",
       "             ... \n",
       "2018-11-15    177\n",
       "2018-04-11    191\n",
       "2019-03-05    200\n",
       "2019-02-01    261\n",
       "2019-03-01    263\n",
       "Name: BillParty, Length: 107, dtype: int64"
      ]
     },
     "execution_count": 15,
     "metadata": {},
     "output_type": "execute_result"
    }
   ],
   "source": [
    "#np.size means no of party on a particular date\n",
    "df2=df.groupby(['BillDate','BillNo']).agg(np.size)['BillParty']\n",
    "df2=df2.groupby('BillDate').agg(np.size)\n",
    "df2.sort_values()\n",
    "\n"
   ]
  },
  {
   "cell_type": "code",
   "execution_count": 16,
   "metadata": {},
   "outputs": [
    {
     "data": {
      "text/plain": [
       "count     4293\n",
       "unique      60\n",
       "top       MILK\n",
       "freq      2037\n",
       "Name: BillProdName, dtype: object"
      ]
     },
     "execution_count": 16,
     "metadata": {},
     "output_type": "execute_result"
    }
   ],
   "source": [
    "df3=df.loc[df.ProdCategory =='MILK PRODUCTS',['BillQty','BillProdName']]\n",
    "# print(df3.BillProdName.value_counts())\n",
    "df3.BillProdName.describe()"
   ]
  },
  {
   "cell_type": "code",
   "execution_count": 17,
   "metadata": {},
   "outputs": [
    {
     "data": {
      "text/plain": [
       "Text(0.5, 0, 'Categories')"
      ]
     },
     "execution_count": 17,
     "metadata": {},
     "output_type": "execute_result"
    },
    {
     "data": {
      "image/png": "[encoded data removed]",
      "text/plain": [
       "<Figure size 432x288 with 1 Axes>"
      ]
     },
     "metadata": {
      "needs_background": "light"
     },
     "output_type": "display_data"
    }
   ],
   "source": [
    "#category wise revenue of differnt categories\n",
    "df.groupby('ProdCategory').BillAmt.sum().plot(kind='bar',title='revenue of differnt categories')\n",
    "plt.ylabel('BillAmt')\n",
    "plt.xlabel('Categories')\n",
    "\n"
   ]
  },
  {
   "cell_type": "code",
   "execution_count": 18,
   "metadata": {},
   "outputs": [
    {
     "data": {
      "text/html": [
       "<div>\n",
       "<style scoped>\n",
       "    .dataframe tbody tr th:only-of-type {\n",
       "        vertical-align: middle;\n",
       "    }\n",
       "\n",
       "    .dataframe tbody tr th {\n",
       "        vertical-align: top;\n",
       "    }\n",
       "\n",
       "    .dataframe thead th {\n",
       "        text-align: right;\n",
       "    }\n",
       "</style>\n",
       "<table border=\"1\" class=\"dataframe\">\n",
       "  <thead>\n",
       "    <tr style=\"text-align: right;\">\n",
       "      <th></th>\n",
       "      <th>count</th>\n",
       "      <th>mean</th>\n",
       "      <th>std</th>\n",
       "      <th>min</th>\n",
       "      <th>25%</th>\n",
       "      <th>50%</th>\n",
       "      <th>75%</th>\n",
       "      <th>max</th>\n",
       "    </tr>\n",
       "    <tr>\n",
       "      <th>month</th>\n",
       "      <th></th>\n",
       "      <th></th>\n",
       "      <th></th>\n",
       "      <th></th>\n",
       "      <th></th>\n",
       "      <th></th>\n",
       "      <th></th>\n",
       "      <th></th>\n",
       "    </tr>\n",
       "  </thead>\n",
       "  <tbody>\n",
       "    <tr>\n",
       "      <th>01</th>\n",
       "      <td>11.0</td>\n",
       "      <td>755.545455</td>\n",
       "      <td>1590.107755</td>\n",
       "      <td>4.0</td>\n",
       "      <td>13.50</td>\n",
       "      <td>101.0</td>\n",
       "      <td>524.50</td>\n",
       "      <td>5312.0</td>\n",
       "    </tr>\n",
       "    <tr>\n",
       "      <th>02</th>\n",
       "      <td>13.0</td>\n",
       "      <td>860.153846</td>\n",
       "      <td>1855.183856</td>\n",
       "      <td>1.0</td>\n",
       "      <td>9.00</td>\n",
       "      <td>39.0</td>\n",
       "      <td>386.00</td>\n",
       "      <td>6541.0</td>\n",
       "    </tr>\n",
       "    <tr>\n",
       "      <th>03</th>\n",
       "      <td>12.0</td>\n",
       "      <td>488.083333</td>\n",
       "      <td>1018.872234</td>\n",
       "      <td>1.0</td>\n",
       "      <td>13.25</td>\n",
       "      <td>52.0</td>\n",
       "      <td>284.00</td>\n",
       "      <td>3468.0</td>\n",
       "    </tr>\n",
       "    <tr>\n",
       "      <th>04</th>\n",
       "      <td>8.0</td>\n",
       "      <td>101.000000</td>\n",
       "      <td>163.817843</td>\n",
       "      <td>4.0</td>\n",
       "      <td>17.25</td>\n",
       "      <td>30.5</td>\n",
       "      <td>104.50</td>\n",
       "      <td>492.0</td>\n",
       "    </tr>\n",
       "    <tr>\n",
       "      <th>05</th>\n",
       "      <td>8.0</td>\n",
       "      <td>111.500000</td>\n",
       "      <td>176.205237</td>\n",
       "      <td>1.0</td>\n",
       "      <td>20.00</td>\n",
       "      <td>33.0</td>\n",
       "      <td>119.25</td>\n",
       "      <td>526.0</td>\n",
       "    </tr>\n",
       "    <tr>\n",
       "      <th>06</th>\n",
       "      <td>9.0</td>\n",
       "      <td>101.444444</td>\n",
       "      <td>185.014264</td>\n",
       "      <td>1.0</td>\n",
       "      <td>6.00</td>\n",
       "      <td>28.0</td>\n",
       "      <td>95.00</td>\n",
       "      <td>580.0</td>\n",
       "    </tr>\n",
       "    <tr>\n",
       "      <th>07</th>\n",
       "      <td>10.0</td>\n",
       "      <td>70.100000</td>\n",
       "      <td>132.773366</td>\n",
       "      <td>1.0</td>\n",
       "      <td>4.00</td>\n",
       "      <td>18.5</td>\n",
       "      <td>60.75</td>\n",
       "      <td>431.0</td>\n",
       "    </tr>\n",
       "    <tr>\n",
       "      <th>08</th>\n",
       "      <td>9.0</td>\n",
       "      <td>43.000000</td>\n",
       "      <td>85.516080</td>\n",
       "      <td>1.0</td>\n",
       "      <td>2.00</td>\n",
       "      <td>9.0</td>\n",
       "      <td>43.00</td>\n",
       "      <td>266.0</td>\n",
       "    </tr>\n",
       "    <tr>\n",
       "      <th>09</th>\n",
       "      <td>9.0</td>\n",
       "      <td>35.777778</td>\n",
       "      <td>67.760198</td>\n",
       "      <td>1.0</td>\n",
       "      <td>5.00</td>\n",
       "      <td>7.0</td>\n",
       "      <td>34.00</td>\n",
       "      <td>213.0</td>\n",
       "    </tr>\n",
       "    <tr>\n",
       "      <th>10</th>\n",
       "      <td>10.0</td>\n",
       "      <td>33.600000</td>\n",
       "      <td>61.206753</td>\n",
       "      <td>1.0</td>\n",
       "      <td>2.00</td>\n",
       "      <td>9.5</td>\n",
       "      <td>33.50</td>\n",
       "      <td>201.0</td>\n",
       "    </tr>\n",
       "    <tr>\n",
       "      <th>11</th>\n",
       "      <td>10.0</td>\n",
       "      <td>559.400000</td>\n",
       "      <td>1144.415057</td>\n",
       "      <td>3.0</td>\n",
       "      <td>15.75</td>\n",
       "      <td>107.0</td>\n",
       "      <td>471.75</td>\n",
       "      <td>3710.0</td>\n",
       "    </tr>\n",
       "    <tr>\n",
       "      <th>12</th>\n",
       "      <td>12.0</td>\n",
       "      <td>623.750000</td>\n",
       "      <td>1404.199683</td>\n",
       "      <td>1.0</td>\n",
       "      <td>5.75</td>\n",
       "      <td>87.0</td>\n",
       "      <td>404.00</td>\n",
       "      <td>4950.0</td>\n",
       "    </tr>\n",
       "  </tbody>\n",
       "</table>\n",
       "</div>"
      ],
      "text/plain": [
       "       count        mean          std  min    25%    50%     75%     max\n",
       "month                                                                   \n",
       "01      11.0  755.545455  1590.107755  4.0  13.50  101.0  524.50  5312.0\n",
       "02      13.0  860.153846  1855.183856  1.0   9.00   39.0  386.00  6541.0\n",
       "03      12.0  488.083333  1018.872234  1.0  13.25   52.0  284.00  3468.0\n",
       "04       8.0  101.000000   163.817843  4.0  17.25   30.5  104.50   492.0\n",
       "05       8.0  111.500000   176.205237  1.0  20.00   33.0  119.25   526.0\n",
       "06       9.0  101.444444   185.014264  1.0   6.00   28.0   95.00   580.0\n",
       "07      10.0   70.100000   132.773366  1.0   4.00   18.5   60.75   431.0\n",
       "08       9.0   43.000000    85.516080  1.0   2.00    9.0   43.00   266.0\n",
       "09       9.0   35.777778    67.760198  1.0   5.00    7.0   34.00   213.0\n",
       "10      10.0   33.600000    61.206753  1.0   2.00    9.5   33.50   201.0\n",
       "11      10.0  559.400000  1144.415057  3.0  15.75  107.0  471.75  3710.0\n",
       "12      12.0  623.750000  1404.199683  1.0   5.75   87.0  404.00  4950.0"
      ]
     },
     "execution_count": 18,
     "metadata": {},
     "output_type": "execute_result"
    },
    {
     "data": {
      "image/png": "[encoded data removed]",
      "text/plain": [
       "<Figure size 432x288 with 1 Axes>"
      ]
     },
     "metadata": {
      "needs_background": "light"
     },
     "output_type": "display_data"
    }
   ],
   "source": [
    "df4 = df.groupby(['month','ProdCategory']).agg(np.size)['BillProdName']\n",
    "\n",
    "df4.groupby('month').sum().plot(kind='bar',title='Monthly Product Demand')\n",
    "df4.groupby('month').describe() #----------01 month avg 755 products........\n"
   ]
  },
  {
   "cell_type": "code",
   "execution_count": 20,
   "metadata": {},
   "outputs": [
    {
     "data": {
      "image/png": "[encoded data removed]",
      "text/plain": [
       "<Figure size 800x600 with 1 Axes>"
      ]
     },
     "metadata": {
      "needs_background": "light"
     },
     "output_type": "display_data"
    }
   ],
   "source": [
    "val=df.BillAmt.sum()\n",
    "catego=(df.groupby('ProdCategory').BillAmt.sum()/val * 100).reset_index()\n",
    "fig = plt.figure(figsize=(8,6),dpi=100)\n",
    "axes = fig.subplots()\n",
    "axes.bar(catego[\"ProdCategory\"],catego[\"BillAmt\"],color=\"red\")\n",
    "# catego.plot(kind='bar',title='Percentage of BillAmount in total Amount')\n",
    "axes.set_xlabel('ProdcutCategory')\n",
    "axes.set_ylabel('Percentage Value')\n",
    "axes.set_title('Percentage of BillAmount in Total Amount for Each Category')\n",
    "plt.xticks(rotation=90)\n",
    "\n",
    "plt.show()"
   ]
  },
  {
   "cell_type": "code",
   "execution_count": 21,
   "metadata": {},
   "outputs": [
    {
     "data": {
      "text/plain": [
       "<matplotlib.axes._subplots.AxesSubplot at 0x2162af5f508>"
      ]
     },
     "execution_count": 21,
     "metadata": {},
     "output_type": "execute_result"
    },
    {
     "data": {
      "image/png": "[encoded data removed]",
      "text/plain": [
       "<Figure size 432x288 with 1 Axes>"
      ]
     },
     "metadata": {
      "needs_background": "light"
     },
     "output_type": "display_data"
    }
   ],
   "source": [
    "df.BillProdName.value_counts().sort_values().tail(5).plot(kind='bar',title='Max saling Product Count for 2018-19')"
   ]
  },
  {
   "cell_type": "code",
   "execution_count": 22,
   "metadata": {},
   "outputs": [],
   "source": [
    "df6=df.loc[df.year=='2019',['month','BillAmt','BillProdName']].copy()"
   ]
  },
  {
   "cell_type": "code",
   "execution_count": 23,
   "metadata": {},
   "outputs": [],
   "source": [
    "import plotly\n",
    "import plotly.express as px\n",
    "import plotly.graph_objects as go\n",
    "import plotly.offline as pyo\n",
    "from plotly.offline import init_notebook_mode,plot,iplot\n",
    "import seaborn as sns\n",
    "sns.set(style=\"whitegrid\")\n",
    "import cufflinks as cf"
   ]
  },
  {
   "cell_type": "code",
   "execution_count": 24,
   "metadata": {},
   "outputs": [
    {
     "data": {
      "text/html": [
       "        <script type=\"text/javascript\">\n",
       "        window.PlotlyConfig = {MathJaxConfig: 'local'};\n",
       "        if (window.MathJax) {MathJax.Hub.Config({SVG: {font: \"STIX-Web\"}});}\n",
       "        if (typeof require !== 'undefined') {\n",
       "        require.undef(\"plotly\");\n",
       "        requirejs.config({\n",
       "            paths: {\n",
       "                'plotly': ['https://cdn.plot.ly/plotly-latest.min']\n",
       "            }\n",
       "        });\n",
       "        require(['plotly'], function(Plotly) {\n",
       "            window._Plotly = Plotly;\n",
       "        });\n",
       "        }\n",
       "        </script>\n",
       "        "
      ]
     },
     "metadata": {},
     "output_type": "display_data"
    },
    {
     "data": {
      "text/html": [
       "        <script type=\"text/javascript\">\n",
       "        window.PlotlyConfig = {MathJaxConfig: 'local'};\n",
       "        if (window.MathJax) {MathJax.Hub.Config({SVG: {font: \"STIX-Web\"}});}\n",
       "        if (typeof require !== 'undefined') {\n",
       "        require.undef(\"plotly\");\n",
       "        requirejs.config({\n",
       "            paths: {\n",
       "                'plotly': ['https://cdn.plot.ly/plotly-latest.min']\n",
       "            }\n",
       "        });\n",
       "        require(['plotly'], function(Plotly) {\n",
       "            window._Plotly = Plotly;\n",
       "        });\n",
       "        }\n",
       "        </script>\n",
       "        "
      ]
     },
     "metadata": {},
     "output_type": "display_data"
    }
   ],
   "source": [
    "pyo.init_notebook_mode(connected=True) #from python package\n",
    "cf.go_offline()"
   ]
  },
  {
   "cell_type": "code",
   "execution_count": 25,
   "metadata": {},
   "outputs": [],
   "source": [
    "df7=df6.groupby('month').BillProdName.describe().sort_index().stack().unstack()\n",
    "df7=df7.astype({'freq':float,'count':float}).reset_index()\n"
   ]
  },
  {
   "cell_type": "code",
   "execution_count": 26,
   "metadata": {},
   "outputs": [
    {
     "data": {
      "application/vnd.plotly.v1+json": {
       "config": {
        "plotlyServerURL": "https://plot.ly"
       },
       "data": [
        {
         "alignmentgroup": "True",
         "customdata": [
          [
           408
          ],
          [
           544
          ],
          [
           272
          ],
          [
           18
          ],
          [
           25
          ],
          [
           25
          ],
          [
           22
          ],
          [
           24
          ],
          [
           21
          ],
          [
           22
          ],
          [
           25
          ],
          [
           22
          ]
         ],
         "hovertemplate": "<b>%{hovertext}</b><br><br>month=%{x}<br>count=%{marker.color}<br>freq=%{customdata[0]}<extra></extra>",
         "hovertext": [
          "TOMATA",
          "MILK",
          "GRAPES B",
          "MILK",
          "TOMATA",
          "MILK",
          "AADU",
          "MILK",
          "MILK",
          "MILK",
          "MILK",
          "MILK"
         ],
         "legendgroup": "",
         "marker": {
          "color": [
           8314,
           10941,
           5391,
           282,
           454,
           415,
           396,
           380,
           322,
           336,
           329,
           434
          ],
          "coloraxis": "coloraxis"
         },
         "name": "",
         "offsetgroup": "",
         "orientation": "v",
         "showlegend": false,
         "textposition": "auto",
         "type": "bar",
         "x": [
          "01",
          "02",
          "03",
          "04",
          "05",
          "06",
          "07",
          "08",
          "09",
          "10",
          "11",
          "12"
         ],
         "xaxis": "x",
         "y": [
          8314,
          10941,
          5391,
          282,
          454,
          415,
          396,
          380,
          322,
          336,
          329,
          434
         ],
         "yaxis": "y"
        }
       ],
       "layout": {
        "barmode": "relative",
        "coloraxis": {
         "colorbar": {
          "title": {
           "text": "count"
          }
         },
         "colorscale": [
          [
           0,
           "#0d0887"
          ],
          [
           0.1111111111111111,
           "#46039f"
          ],
          [
           0.2222222222222222,
           "#7201a8"
          ],
          [
           0.3333333333333333,
           "#9c179e"
          ],
          [
           0.4444444444444444,
           "#bd3786"
          ],
          [
           0.5555555555555556,
           "#d8576b"
          ],
          [
           0.6666666666666666,
           "#ed7953"
          ],
          [
           0.7777777777777778,
           "#fb9f3a"
          ],
          [
           0.8888888888888888,
           "#fdca26"
          ],
          [
           1,
           "#f0f921"
          ]
         ]
        },
        "legend": {
         "tracegroupgap": 0
        },
        "template": {
         "data": {
          "bar": [
           {
            "error_x": {
             "color": "#2a3f5f"
            },
            "error_y": {
             "color": "#2a3f5f"
            },
            "marker": {
             "line": {
              "color": "#E5ECF6",
              "width": 0.5
             }
            },
            "type": "bar"
           }
          ],
          "barpolar": [
           {
            "marker": {
             "line": {
              "color": "#E5ECF6",
              "width": 0.5
             }
            },
            "type": "barpolar"
           }
          ],
          "carpet": [
           {
            "aaxis": {
             "endlinecolor": "#2a3f5f",
             "gridcolor": "white",
             "linecolor": "white",
             "minorgridcolor": "white",
             "startlinecolor": "#2a3f5f"
            },
            "baxis": {
             "endlinecolor": "#2a3f5f",
             "gridcolor": "white",
             "linecolor": "white",
             "minorgridcolor": "white",
             "startlinecolor": "#2a3f5f"
            },
            "type": "carpet"
           }
          ],
          "choropleth": [
           {
            "colorbar": {
             "outlinewidth": 0,
             "ticks": ""
            },
            "type": "choropleth"
           }
          ],
          "contour": [
           {
            "colorbar": {
             "outlinewidth": 0,
             "ticks": ""
            },
            "colorscale": [
             [
              0,
              "#0d0887"
             ],
             [
              0.1111111111111111,
              "#46039f"
             ],
             [
              0.2222222222222222,
              "#7201a8"
             ],
             [
              0.3333333333333333,
              "#9c179e"
             ],
             [
              0.4444444444444444,
              "#bd3786"
             ],
             [
              0.5555555555555556,
              "#d8576b"
             ],
             [
              0.6666666666666666,
              "#ed7953"
             ],
             [
              0.7777777777777778,
              "#fb9f3a"
             ],
             [
              0.8888888888888888,
              "#fdca26"
             ],
             [
              1,
              "#f0f921"
             ]
            ],
            "type": "contour"
           }
          ],
          "contourcarpet": [
           {
            "colorbar": {
             "outlinewidth": 0,
             "ticks": ""
            },
            "type": "contourcarpet"
           }
          ],
          "heatmap": [
           {
            "colorbar": {
             "outlinewidth": 0,
             "ticks": ""
            },
            "colorscale": [
             [
              0,
              "#0d0887"
             ],
             [
              0.1111111111111111,
              "#46039f"
             ],
             [
              0.2222222222222222,
              "#7201a8"
             ],
             [
              0.3333333333333333,
              "#9c179e"
             ],
             [
              0.4444444444444444,
              "#bd3786"
             ],
             [
              0.5555555555555556,
              "#d8576b"
             ],
             [
              0.6666666666666666,
              "#ed7953"
             ],
             [
              0.7777777777777778,
              "#fb9f3a"
             ],
             [
              0.8888888888888888,
              "#fdca26"
             ],
             [
              1,
              "#f0f921"
             ]
            ],
            "type": "heatmap"
           }
          ],
          "heatmapgl": [
           {
            "colorbar": {
             "outlinewidth": 0,
             "ticks": ""
            },
            "colorscale": [
             [
              0,
              "#0d0887"
             ],
             [
              0.1111111111111111,
              "#46039f"
             ],
             [
              0.2222222222222222,
              "#7201a8"
             ],
             [
              0.3333333333333333,
              "#9c179e"
             ],
             [
              0.4444444444444444,
              "#bd3786"
             ],
             [
              0.5555555555555556,
              "#d8576b"
             ],
             [
              0.6666666666666666,
              "#ed7953"
             ],
             [
              0.7777777777777778,
              "#fb9f3a"
             ],
             [
              0.8888888888888888,
              "#fdca26"
             ],
             [
              1,
              "#f0f921"
             ]
            ],
            "type": "heatmapgl"
           }
          ],
          "histogram": [
           {
            "marker": {
             "colorbar": {
              "outlinewidth": 0,
              "ticks": ""
             }
            },
            "type": "histogram"
           }
          ],
          "histogram2d": [
           {
            "colorbar": {
             "outlinewidth": 0,
             "ticks": ""
            },
            "colorscale": [
             [
              0,
              "#0d0887"
             ],
             [
              0.1111111111111111,
              "#46039f"
             ],
             [
              0.2222222222222222,
              "#7201a8"
             ],
             [
              0.3333333333333333,
              "#9c179e"
             ],
             [
              0.4444444444444444,
              "#bd3786"
             ],
             [
              0.5555555555555556,
              "#d8576b"
             ],
             [
              0.6666666666666666,
              "#ed7953"
             ],
             [
              0.7777777777777778,
              "#fb9f3a"
             ],
             [
              0.8888888888888888,
              "#fdca26"
             ],
             [
              1,
              "#f0f921"
             ]
            ],
            "type": "histogram2d"
           }
          ],
          "histogram2dcontour": [
           {
            "colorbar": {
             "outlinewidth": 0,
             "ticks": ""
            },
            "colorscale": [
             [
              0,
              "#0d0887"
             ],
             [
              0.1111111111111111,
              "#46039f"
             ],
             [
              0.2222222222222222,
              "#7201a8"
             ],
             [
              0.3333333333333333,
              "#9c179e"
             ],
             [
              0.4444444444444444,
              "#bd3786"
             ],
             [
              0.5555555555555556,
              "#d8576b"
             ],
             [
              0.6666666666666666,
              "#ed7953"
             ],
             [
              0.7777777777777778,
              "#fb9f3a"
             ],
             [
              0.8888888888888888,
              "#fdca26"
             ],
             [
              1,
              "#f0f921"
             ]
            ],
            "type": "histogram2dcontour"
           }
          ],
          "mesh3d": [
           {
            "colorbar": {
             "outlinewidth": 0,
             "ticks": ""
            },
            "type": "mesh3d"
           }
          ],
          "parcoords": [
           {
            "line": {
             "colorbar": {
              "outlinewidth": 0,
              "ticks": ""
             }
            },
            "type": "parcoords"
           }
          ],
          "pie": [
           {
            "automargin": true,
            "type": "pie"
           }
          ],
          "scatter": [
           {
            "marker": {
             "colorbar": {
              "outlinewidth": 0,
              "ticks": ""
             }
            },
            "type": "scatter"
           }
          ],
          "scatter3d": [
           {
            "line": {
             "colorbar": {
              "outlinewidth": 0,
              "ticks": ""
             }
            },
            "marker": {
             "colorbar": {
              "outlinewidth": 0,
              "ticks": ""
             }
            },
            "type": "scatter3d"
           }
          ],
          "scattercarpet": [
           {
            "marker": {
             "colorbar": {
              "outlinewidth": 0,
              "ticks": ""
             }
            },
            "type": "scattercarpet"
           }
          ],
          "scattergeo": [
           {
            "marker": {
             "colorbar": {
              "outlinewidth": 0,
              "ticks": ""
             }
            },
            "type": "scattergeo"
           }
          ],
          "scattergl": [
           {
            "marker": {
             "colorbar": {
              "outlinewidth": 0,
              "ticks": ""
             }
            },
            "type": "scattergl"
           }
          ],
          "scattermapbox": [
           {
            "marker": {
             "colorbar": {
              "outlinewidth": 0,
              "ticks": ""
             }
            },
            "type": "scattermapbox"
           }
          ],
          "scatterpolar": [
           {
            "marker": {
             "colorbar": {
              "outlinewidth": 0,
              "ticks": ""
             }
            },
            "type": "scatterpolar"
           }
          ],
          "scatterpolargl": [
           {
            "marker": {
             "colorbar": {
              "outlinewidth": 0,
              "ticks": ""
             }
            },
            "type": "scatterpolargl"
           }
          ],
          "scatterternary": [
           {
            "marker": {
             "colorbar": {
              "outlinewidth": 0,
              "ticks": ""
             }
            },
            "type": "scatterternary"
           }
          ],
          "surface": [
           {
            "colorbar": {
             "outlinewidth": 0,
             "ticks": ""
            },
            "colorscale": [
             [
              0,
              "#0d0887"
             ],
             [
              0.1111111111111111,
              "#46039f"
             ],
             [
              0.2222222222222222,
              "#7201a8"
             ],
             [
              0.3333333333333333,
              "#9c179e"
             ],
             [
              0.4444444444444444,
              "#bd3786"
             ],
             [
              0.5555555555555556,
              "#d8576b"
             ],
             [
              0.6666666666666666,
              "#ed7953"
             ],
             [
              0.7777777777777778,
              "#fb9f3a"
             ],
             [
              0.8888888888888888,
              "#fdca26"
             ],
             [
              1,
              "#f0f921"
             ]
            ],
            "type": "surface"
           }
          ],
          "table": [
           {
            "cells": {
             "fill": {
              "color": "#EBF0F8"
             },
             "line": {
              "color": "white"
             }
            },
            "header": {
             "fill": {
              "color": "#C8D4E3"
             },
             "line": {
              "color": "white"
             }
            },
            "type": "table"
           }
          ]
         },
         "layout": {
          "annotationdefaults": {
           "arrowcolor": "#2a3f5f",
           "arrowhead": 0,
           "arrowwidth": 1
          },
          "coloraxis": {
           "colorbar": {
            "outlinewidth": 0,
            "ticks": ""
           }
          },
          "colorscale": {
           "diverging": [
            [
             0,
             "#8e0152"
            ],
            [
             0.1,
             "#c51b7d"
            ],
            [
             0.2,
             "#de77ae"
            ],
            [
             0.3,
             "#f1b6da"
            ],
            [
             0.4,
             "#fde0ef"
            ],
            [
             0.5,
             "#f7f7f7"
            ],
            [
             0.6,
             "#e6f5d0"
            ],
            [
             0.7,
             "#b8e186"
            ],
            [
             0.8,
             "#7fbc41"
            ],
            [
             0.9,
             "#4d9221"
            ],
            [
             1,
             "#276419"
            ]
           ],
           "sequential": [
            [
             0,
             "#0d0887"
            ],
            [
             0.1111111111111111,
             "#46039f"
            ],
            [
             0.2222222222222222,
             "#7201a8"
            ],
            [
             0.3333333333333333,
             "#9c179e"
            ],
            [
             0.4444444444444444,
             "#bd3786"
            ],
            [
             0.5555555555555556,
             "#d8576b"
            ],
            [
             0.6666666666666666,
             "#ed7953"
            ],
            [
             0.7777777777777778,
             "#fb9f3a"
            ],
            [
             0.8888888888888888,
             "#fdca26"
            ],
            [
             1,
             "#f0f921"
            ]
           ],
           "sequentialminus": [
            [
             0,
             "#0d0887"
            ],
            [
             0.1111111111111111,
             "#46039f"
            ],
            [
             0.2222222222222222,
             "#7201a8"
            ],
            [
             0.3333333333333333,
             "#9c179e"
            ],
            [
             0.4444444444444444,
             "#bd3786"
            ],
            [
             0.5555555555555556,
             "#d8576b"
            ],
            [
             0.6666666666666666,
             "#ed7953"
            ],
            [
             0.7777777777777778,
             "#fb9f3a"
            ],
            [
             0.8888888888888888,
             "#fdca26"
            ],
            [
             1,
             "#f0f921"
            ]
           ]
          },
          "colorway": [
           "#636efa",
           "#EF553B",
           "#00cc96",
           "#ab63fa",
           "#FFA15A",
           "#19d3f3",
           "#FF6692",
           "#B6E880",
           "#FF97FF",
           "#FECB52"
          ],
          "font": {
           "color": "#2a3f5f"
          },
          "geo": {
           "bgcolor": "white",
           "lakecolor": "white",
           "landcolor": "#E5ECF6",
           "showlakes": true,
           "showland": true,
           "subunitcolor": "white"
          },
          "hoverlabel": {
           "align": "left"
          },
          "hovermode": "closest",
          "mapbox": {
           "style": "light"
          },
          "paper_bgcolor": "white",
          "plot_bgcolor": "#E5ECF6",
          "polar": {
           "angularaxis": {
            "gridcolor": "white",
            "linecolor": "white",
            "ticks": ""
           },
           "bgcolor": "#E5ECF6",
           "radialaxis": {
            "gridcolor": "white",
            "linecolor": "white",
            "ticks": ""
           }
          },
          "scene": {
           "xaxis": {
            "backgroundcolor": "#E5ECF6",
            "gridcolor": "white",
            "gridwidth": 2,
            "linecolor": "white",
            "showbackground": true,
            "ticks": "",
            "zerolinecolor": "white"
           },
           "yaxis": {
            "backgroundcolor": "#E5ECF6",
            "gridcolor": "white",
            "gridwidth": 2,
            "linecolor": "white",
            "showbackground": true,
            "ticks": "",
            "zerolinecolor": "white"
           },
           "zaxis": {
            "backgroundcolor": "#E5ECF6",
            "gridcolor": "white",
            "gridwidth": 2,
            "linecolor": "white",
            "showbackground": true,
            "ticks": "",
            "zerolinecolor": "white"
           }
          },
          "shapedefaults": {
           "line": {
            "color": "#2a3f5f"
           }
          },
          "ternary": {
           "aaxis": {
            "gridcolor": "white",
            "linecolor": "white",
            "ticks": ""
           },
           "baxis": {
            "gridcolor": "white",
            "linecolor": "white",
            "ticks": ""
           },
           "bgcolor": "#E5ECF6",
           "caxis": {
            "gridcolor": "white",
            "linecolor": "white",
            "ticks": ""
           }
          },
          "title": {
           "x": 0.05
          },
          "xaxis": {
           "automargin": true,
           "gridcolor": "white",
           "linecolor": "white",
           "ticks": "",
           "title": {
            "standoff": 15
           },
           "zerolinecolor": "white",
           "zerolinewidth": 2
          },
          "yaxis": {
           "automargin": true,
           "gridcolor": "white",
           "linecolor": "white",
           "ticks": "",
           "title": {
            "standoff": 15
           },
           "zerolinecolor": "white",
           "zerolinewidth": 2
          }
         }
        },
        "title": {
         "text": "Total Products Count and max selling product month vise in 2019 "
        },
        "xaxis": {
         "anchor": "y",
         "domain": [
          0,
          1
         ],
         "title": {
          "text": "month"
         }
        },
        "yaxis": {
         "anchor": "x",
         "domain": [
          0,
          1
         ],
         "title": {
          "text": "count"
         }
        }
       }
      },
      "text/html": [
       "<div>\n",
       "        \n",
       "        \n",
       "            <div id=\"89cadf58-af90-4166-b96f-e886fae7b90c\" class=\"plotly-graph-div\" style=\"height:525px; width:100%;\"></div>\n",
       "            <script type=\"text/javascript\">\n",
       "                require([\"plotly\"], function(Plotly) {\n",
       "                    window.PLOTLYENV=window.PLOTLYENV || {};\n",
       "                    \n",
       "                if (document.getElementById(\"89cadf58-af90-4166-b96f-e886fae7b90c\")) {\n",
       "                    Plotly.newPlot(\n",
       "                        '89cadf58-af90-4166-b96f-e886fae7b90c',\n",
       "                        [{\"alignmentgroup\": \"True\", \"customdata\": [[408.0], [544.0], [272.0], [18.0], [25.0], [25.0], [22.0], [24.0], [21.0], [22.0], [25.0], [22.0]], \"hovertemplate\": \"<b>%{hovertext}</b><br><br>month=%{x}<br>count=%{marker.color}<br>freq=%{customdata[0]}<extra></extra>\", \"hovertext\": [\"TOMATA\", \"MILK\", \"GRAPES B\", \"MILK\", \"TOMATA\", \"MILK\", \"AADU\", \"MILK\", \"MILK\", \"MILK\", \"MILK\", \"MILK\"], \"legendgroup\": \"\", \"marker\": {\"color\": [8314.0, 10941.0, 5391.0, 282.0, 454.0, 415.0, 396.0, 380.0, 322.0, 336.0, 329.0, 434.0], \"coloraxis\": \"coloraxis\"}, \"name\": \"\", \"offsetgroup\": \"\", \"orientation\": \"v\", \"showlegend\": false, \"textposition\": \"auto\", \"type\": \"bar\", \"x\": [\"01\", \"02\", \"03\", \"04\", \"05\", \"06\", \"07\", \"08\", \"09\", \"10\", \"11\", \"12\"], \"xaxis\": \"x\", \"y\": [8314.0, 10941.0, 5391.0, 282.0, 454.0, 415.0, 396.0, 380.0, 322.0, 336.0, 329.0, 434.0], \"yaxis\": \"y\"}],\n",
       "                        {\"barmode\": \"relative\", \"coloraxis\": {\"colorbar\": {\"title\": {\"text\": \"count\"}}, \"colorscale\": [[0.0, \"#0d0887\"], [0.1111111111111111, \"#46039f\"], [0.2222222222222222, \"#7201a8\"], [0.3333333333333333, \"#9c179e\"], [0.4444444444444444, \"#bd3786\"], [0.5555555555555556, \"#d8576b\"], [0.6666666666666666, \"#ed7953\"], [0.7777777777777778, \"#fb9f3a\"], [0.8888888888888888, \"#fdca26\"], [1.0, \"#f0f921\"]]}, \"legend\": {\"tracegroupgap\": 0}, \"template\": {\"data\": {\"bar\": [{\"error_x\": {\"color\": \"#2a3f5f\"}, \"error_y\": {\"color\": \"#2a3f5f\"}, \"marker\": {\"line\": {\"color\": \"#E5ECF6\", \"width\": 0.5}}, \"type\": \"bar\"}], \"barpolar\": [{\"marker\": {\"line\": {\"color\": \"#E5ECF6\", \"width\": 0.5}}, \"type\": \"barpolar\"}], \"carpet\": [{\"aaxis\": {\"endlinecolor\": \"#2a3f5f\", \"gridcolor\": \"white\", \"linecolor\": \"white\", \"minorgridcolor\": \"white\", \"startlinecolor\": \"#2a3f5f\"}, \"baxis\": {\"endlinecolor\": \"#2a3f5f\", \"gridcolor\": \"white\", \"linecolor\": \"white\", \"minorgridcolor\": \"white\", \"startlinecolor\": \"#2a3f5f\"}, \"type\": \"carpet\"}], \"choropleth\": [{\"colorbar\": {\"outlinewidth\": 0, \"ticks\": \"\"}, \"type\": \"choropleth\"}], \"contour\": [{\"colorbar\": {\"outlinewidth\": 0, \"ticks\": \"\"}, \"colorscale\": [[0.0, \"#0d0887\"], [0.1111111111111111, \"#46039f\"], [0.2222222222222222, \"#7201a8\"], [0.3333333333333333, \"#9c179e\"], [0.4444444444444444, \"#bd3786\"], [0.5555555555555556, \"#d8576b\"], [0.6666666666666666, \"#ed7953\"], [0.7777777777777778, \"#fb9f3a\"], [0.8888888888888888, \"#fdca26\"], [1.0, \"#f0f921\"]], \"type\": \"contour\"}], \"contourcarpet\": [{\"colorbar\": {\"outlinewidth\": 0, \"ticks\": \"\"}, \"type\": \"contourcarpet\"}], \"heatmap\": [{\"colorbar\": {\"outlinewidth\": 0, \"ticks\": \"\"}, \"colorscale\": [[0.0, \"#0d0887\"], [0.1111111111111111, \"#46039f\"], [0.2222222222222222, \"#7201a8\"], [0.3333333333333333, \"#9c179e\"], [0.4444444444444444, \"#bd3786\"], [0.5555555555555556, \"#d8576b\"], [0.6666666666666666, \"#ed7953\"], [0.7777777777777778, \"#fb9f3a\"], [0.8888888888888888, \"#fdca26\"], [1.0, \"#f0f921\"]], \"type\": \"heatmap\"}], \"heatmapgl\": [{\"colorbar\": {\"outlinewidth\": 0, \"ticks\": \"\"}, \"colorscale\": [[0.0, \"#0d0887\"], [0.1111111111111111, \"#46039f\"], [0.2222222222222222, \"#7201a8\"], [0.3333333333333333, \"#9c179e\"], [0.4444444444444444, \"#bd3786\"], [0.5555555555555556, \"#d8576b\"], [0.6666666666666666, \"#ed7953\"], [0.7777777777777778, \"#fb9f3a\"], [0.8888888888888888, \"#fdca26\"], [1.0, \"#f0f921\"]], \"type\": \"heatmapgl\"}], \"histogram\": [{\"marker\": {\"colorbar\": {\"outlinewidth\": 0, \"ticks\": \"\"}}, \"type\": \"histogram\"}], \"histogram2d\": [{\"colorbar\": {\"outlinewidth\": 0, \"ticks\": \"\"}, \"colorscale\": [[0.0, \"#0d0887\"], [0.1111111111111111, \"#46039f\"], [0.2222222222222222, \"#7201a8\"], [0.3333333333333333, \"#9c179e\"], [0.4444444444444444, \"#bd3786\"], [0.5555555555555556, \"#d8576b\"], [0.6666666666666666, \"#ed7953\"], [0.7777777777777778, \"#fb9f3a\"], [0.8888888888888888, \"#fdca26\"], [1.0, \"#f0f921\"]], \"type\": \"histogram2d\"}], \"histogram2dcontour\": [{\"colorbar\": {\"outlinewidth\": 0, \"ticks\": \"\"}, \"colorscale\": [[0.0, \"#0d0887\"], [0.1111111111111111, \"#46039f\"], [0.2222222222222222, \"#7201a8\"], [0.3333333333333333, \"#9c179e\"], [0.4444444444444444, \"#bd3786\"], [0.5555555555555556, \"#d8576b\"], [0.6666666666666666, \"#ed7953\"], [0.7777777777777778, \"#fb9f3a\"], [0.8888888888888888, \"#fdca26\"], [1.0, \"#f0f921\"]], \"type\": \"histogram2dcontour\"}], \"mesh3d\": [{\"colorbar\": {\"outlinewidth\": 0, \"ticks\": \"\"}, \"type\": \"mesh3d\"}], \"parcoords\": [{\"line\": {\"colorbar\": {\"outlinewidth\": 0, \"ticks\": \"\"}}, \"type\": \"parcoords\"}], \"pie\": [{\"automargin\": true, \"type\": \"pie\"}], \"scatter\": [{\"marker\": {\"colorbar\": {\"outlinewidth\": 0, \"ticks\": \"\"}}, \"type\": \"scatter\"}], \"scatter3d\": [{\"line\": {\"colorbar\": {\"outlinewidth\": 0, \"ticks\": \"\"}}, \"marker\": {\"colorbar\": {\"outlinewidth\": 0, \"ticks\": \"\"}}, \"type\": \"scatter3d\"}], \"scattercarpet\": [{\"marker\": {\"colorbar\": {\"outlinewidth\": 0, \"ticks\": \"\"}}, \"type\": \"scattercarpet\"}], \"scattergeo\": [{\"marker\": {\"colorbar\": {\"outlinewidth\": 0, \"ticks\": \"\"}}, \"type\": \"scattergeo\"}], \"scattergl\": [{\"marker\": {\"colorbar\": {\"outlinewidth\": 0, \"ticks\": \"\"}}, \"type\": \"scattergl\"}], \"scattermapbox\": [{\"marker\": {\"colorbar\": {\"outlinewidth\": 0, \"ticks\": \"\"}}, \"type\": \"scattermapbox\"}], \"scatterpolar\": [{\"marker\": {\"colorbar\": {\"outlinewidth\": 0, \"ticks\": \"\"}}, \"type\": \"scatterpolar\"}], \"scatterpolargl\": [{\"marker\": {\"colorbar\": {\"outlinewidth\": 0, \"ticks\": \"\"}}, \"type\": \"scatterpolargl\"}], \"scatterternary\": [{\"marker\": {\"colorbar\": {\"outlinewidth\": 0, \"ticks\": \"\"}}, \"type\": \"scatterternary\"}], \"surface\": [{\"colorbar\": {\"outlinewidth\": 0, \"ticks\": \"\"}, \"colorscale\": [[0.0, \"#0d0887\"], [0.1111111111111111, \"#46039f\"], [0.2222222222222222, \"#7201a8\"], [0.3333333333333333, \"#9c179e\"], [0.4444444444444444, \"#bd3786\"], [0.5555555555555556, \"#d8576b\"], [0.6666666666666666, \"#ed7953\"], [0.7777777777777778, \"#fb9f3a\"], [0.8888888888888888, \"#fdca26\"], [1.0, \"#f0f921\"]], \"type\": \"surface\"}], \"table\": [{\"cells\": {\"fill\": {\"color\": \"#EBF0F8\"}, \"line\": {\"color\": \"white\"}}, \"header\": {\"fill\": {\"color\": \"#C8D4E3\"}, \"line\": {\"color\": \"white\"}}, \"type\": \"table\"}]}, \"layout\": {\"annotationdefaults\": {\"arrowcolor\": \"#2a3f5f\", \"arrowhead\": 0, \"arrowwidth\": 1}, \"coloraxis\": {\"colorbar\": {\"outlinewidth\": 0, \"ticks\": \"\"}}, \"colorscale\": {\"diverging\": [[0, \"#8e0152\"], [0.1, \"#c51b7d\"], [0.2, \"#de77ae\"], [0.3, \"#f1b6da\"], [0.4, \"#fde0ef\"], [0.5, \"#f7f7f7\"], [0.6, \"#e6f5d0\"], [0.7, \"#b8e186\"], [0.8, \"#7fbc41\"], [0.9, \"#4d9221\"], [1, \"#276419\"]], \"sequential\": [[0.0, \"#0d0887\"], [0.1111111111111111, \"#46039f\"], [0.2222222222222222, \"#7201a8\"], [0.3333333333333333, \"#9c179e\"], [0.4444444444444444, \"#bd3786\"], [0.5555555555555556, \"#d8576b\"], [0.6666666666666666, \"#ed7953\"], [0.7777777777777778, \"#fb9f3a\"], [0.8888888888888888, \"#fdca26\"], [1.0, \"#f0f921\"]], \"sequentialminus\": [[0.0, \"#0d0887\"], [0.1111111111111111, \"#46039f\"], [0.2222222222222222, \"#7201a8\"], [0.3333333333333333, \"#9c179e\"], [0.4444444444444444, \"#bd3786\"], [0.5555555555555556, \"#d8576b\"], [0.6666666666666666, \"#ed7953\"], [0.7777777777777778, \"#fb9f3a\"], [0.8888888888888888, \"#fdca26\"], [1.0, \"#f0f921\"]]}, \"colorway\": [\"#636efa\", \"#EF553B\", \"#00cc96\", \"#ab63fa\", \"#FFA15A\", \"#19d3f3\", \"#FF6692\", \"#B6E880\", \"#FF97FF\", \"#FECB52\"], \"font\": {\"color\": \"#2a3f5f\"}, \"geo\": {\"bgcolor\": \"white\", \"lakecolor\": \"white\", \"landcolor\": \"#E5ECF6\", \"showlakes\": true, \"showland\": true, \"subunitcolor\": \"white\"}, \"hoverlabel\": {\"align\": \"left\"}, \"hovermode\": \"closest\", \"mapbox\": {\"style\": \"light\"}, \"paper_bgcolor\": \"white\", \"plot_bgcolor\": \"#E5ECF6\", \"polar\": {\"angularaxis\": {\"gridcolor\": \"white\", \"linecolor\": \"white\", \"ticks\": \"\"}, \"bgcolor\": \"#E5ECF6\", \"radialaxis\": {\"gridcolor\": \"white\", \"linecolor\": \"white\", \"ticks\": \"\"}}, \"scene\": {\"xaxis\": {\"backgroundcolor\": \"#E5ECF6\", \"gridcolor\": \"white\", \"gridwidth\": 2, \"linecolor\": \"white\", \"showbackground\": true, \"ticks\": \"\", \"zerolinecolor\": \"white\"}, \"yaxis\": {\"backgroundcolor\": \"#E5ECF6\", \"gridcolor\": \"white\", \"gridwidth\": 2, \"linecolor\": \"white\", \"showbackground\": true, \"ticks\": \"\", \"zerolinecolor\": \"white\"}, \"zaxis\": {\"backgroundcolor\": \"#E5ECF6\", \"gridcolor\": \"white\", \"gridwidth\": 2, \"linecolor\": \"white\", \"showbackground\": true, \"ticks\": \"\", \"zerolinecolor\": \"white\"}}, \"shapedefaults\": {\"line\": {\"color\": \"#2a3f5f\"}}, \"ternary\": {\"aaxis\": {\"gridcolor\": \"white\", \"linecolor\": \"white\", \"ticks\": \"\"}, \"baxis\": {\"gridcolor\": \"white\", \"linecolor\": \"white\", \"ticks\": \"\"}, \"bgcolor\": \"#E5ECF6\", \"caxis\": {\"gridcolor\": \"white\", \"linecolor\": \"white\", \"ticks\": \"\"}}, \"title\": {\"x\": 0.05}, \"xaxis\": {\"automargin\": true, \"gridcolor\": \"white\", \"linecolor\": \"white\", \"ticks\": \"\", \"title\": {\"standoff\": 15}, \"zerolinecolor\": \"white\", \"zerolinewidth\": 2}, \"yaxis\": {\"automargin\": true, \"gridcolor\": \"white\", \"linecolor\": \"white\", \"ticks\": \"\", \"title\": {\"standoff\": 15}, \"zerolinecolor\": \"white\", \"zerolinewidth\": 2}}}, \"title\": {\"text\": \"Total Products Count and max selling product month vise in 2019 \"}, \"xaxis\": {\"anchor\": \"y\", \"domain\": [0.0, 1.0], \"title\": {\"text\": \"month\"}}, \"yaxis\": {\"anchor\": \"x\", \"domain\": [0.0, 1.0], \"title\": {\"text\": \"count\"}}},\n",
       "                        {\"responsive\": true}\n",
       "                    ).then(function(){\n",
       "                            \n",
       "var gd = document.getElementById('89cadf58-af90-4166-b96f-e886fae7b90c');\n",
       "var x = new MutationObserver(function (mutations, observer) {{\n",
       "        var display = window.getComputedStyle(gd).display;\n",
       "        if (!display || display === 'none') {{\n",
       "            console.log([gd, 'removed!']);\n",
       "            Plotly.purge(gd);\n",
       "            observer.disconnect();\n",
       "        }}\n",
       "}});\n",
       "\n",
       "// Listen for the removal of the full notebook cells\n",
       "var notebookContainer = gd.closest('#notebook-container');\n",
       "if (notebookContainer) {{\n",
       "    x.observe(notebookContainer, {childList: true});\n",
       "}}\n",
       "\n",
       "// Listen for the clearing of the current output cell\n",
       "var outputEl = gd.closest('.output');\n",
       "if (outputEl) {{\n",
       "    x.observe(outputEl, {childList: true});\n",
       "}}\n",
       "\n",
       "                        })\n",
       "                };\n",
       "                });\n",
       "            </script>\n",
       "        </div>"
      ]
     },
     "metadata": {},
     "output_type": "display_data"
    }
   ],
   "source": [
    "# df7.iplot(kind=\"bar\",x=\"month\",y=\"count\")\n",
    "fig=px.bar(df7,x=\"month\",y=\"count\",color=\"count\",title=\"Total Products Count and max selling product month vise in 2019 \",hover_name=\"top\",hover_data=[\"freq\"])\n",
    "fig.show()\n"
   ]
  },
  {
   "cell_type": "code",
   "execution_count": 27,
   "metadata": {},
   "outputs": [
    {
     "data": {
      "text/plain": [
       "<matplotlib.axes._subplots.AxesSubplot at 0x21630a7b488>"
      ]
     },
     "execution_count": 27,
     "metadata": {},
     "output_type": "execute_result"
    },
    {
     "data": {
      "image/png": "[encoded data removed]",
      "text/plain": [
       "<Figure size 432x288 with 1 Axes>"
      ]
     },
     "metadata": {},
     "output_type": "display_data"
    }
   ],
   "source": [
    "df8 = df.loc[:4,['BillQty','BillAmt','BillRate']]\n",
    "\n",
    "\n",
    "df8.plot(kind='bar',stacked=True,width=0.30)\n"
   ]
  },
  {
   "cell_type": "code",
   "execution_count": 10,
   "metadata": {},
   "outputs": [
    {
     "data": {
      "text/html": [
       "<div>\n",
       "<style scoped>\n",
       "    .dataframe tbody tr th:only-of-type {\n",
       "        vertical-align: middle;\n",
       "    }\n",
       "\n",
       "    .dataframe tbody tr th {\n",
       "        vertical-align: top;\n",
       "    }\n",
       "\n",
       "    .dataframe thead th {\n",
       "        text-align: right;\n",
       "    }\n",
       "</style>\n",
       "<table border=\"1\" class=\"dataframe\">\n",
       "  <thead>\n",
       "    <tr style=\"text-align: right;\">\n",
       "      <th></th>\n",
       "      <th>BillNo</th>\n",
       "      <th>BillQty</th>\n",
       "      <th>BillParty</th>\n",
       "      <th>BillDate</th>\n",
       "      <th>BillProdNo</th>\n",
       "      <th>BillProdCode</th>\n",
       "      <th>BillProdName</th>\n",
       "      <th>BillAddTax</th>\n",
       "      <th>BillRate</th>\n",
       "      <th>BillVat</th>\n",
       "      <th>BillAmt</th>\n",
       "      <th>BillFree</th>\n",
       "      <th>BillPartyType</th>\n",
       "      <th>ProdCategory</th>\n",
       "      <th>ProdPRate</th>\n",
       "      <th>ProdSRate</th>\n",
       "      <th>month</th>\n",
       "      <th>year</th>\n",
       "      <th>weekday</th>\n",
       "    </tr>\n",
       "  </thead>\n",
       "  <tbody>\n",
       "    <tr>\n",
       "      <th>42821</th>\n",
       "      <td>E1617-67296</td>\n",
       "      <td>0.480</td>\n",
       "      <td>RAM BABU</td>\n",
       "      <td>2018-02-11</td>\n",
       "      <td>5</td>\n",
       "      <td>PAL01</td>\n",
       "      <td>PALAK</td>\n",
       "      <td>0</td>\n",
       "      <td>50.0</td>\n",
       "      <td>0.0</td>\n",
       "      <td>24.00</td>\n",
       "      <td>0.0</td>\n",
       "      <td>R</td>\n",
       "      <td>Vegetable</td>\n",
       "      <td>12.0</td>\n",
       "      <td>30.0</td>\n",
       "      <td>2</td>\n",
       "      <td>2018</td>\n",
       "      <td>Sunday</td>\n",
       "    </tr>\n",
       "    <tr>\n",
       "      <th>42643</th>\n",
       "      <td>E1617-67231</td>\n",
       "      <td>0.250</td>\n",
       "      <td>ALPESHKUMAR CHANDRAKANTBHAI PANDYA</td>\n",
       "      <td>2018-02-11</td>\n",
       "      <td>5</td>\n",
       "      <td>GAV01</td>\n",
       "      <td>GAVAR</td>\n",
       "      <td>0</td>\n",
       "      <td>60.0</td>\n",
       "      <td>0.0</td>\n",
       "      <td>15.00</td>\n",
       "      <td>0.0</td>\n",
       "      <td>R</td>\n",
       "      <td>Vegetable</td>\n",
       "      <td>65.0</td>\n",
       "      <td>90.0</td>\n",
       "      <td>2</td>\n",
       "      <td>2018</td>\n",
       "      <td>Sunday</td>\n",
       "    </tr>\n",
       "    <tr>\n",
       "      <th>42642</th>\n",
       "      <td>E1617-67231</td>\n",
       "      <td>0.548</td>\n",
       "      <td>ALPESHKUMAR CHANDRAKANTBHAI PANDYA</td>\n",
       "      <td>2018-02-11</td>\n",
       "      <td>4</td>\n",
       "      <td>KAK01</td>\n",
       "      <td>KAKDI</td>\n",
       "      <td>0</td>\n",
       "      <td>36.0</td>\n",
       "      <td>0.0</td>\n",
       "      <td>19.73</td>\n",
       "      <td>0.0</td>\n",
       "      <td>R</td>\n",
       "      <td>Vegetable</td>\n",
       "      <td>40.0</td>\n",
       "      <td>60.0</td>\n",
       "      <td>2</td>\n",
       "      <td>2018</td>\n",
       "      <td>Sunday</td>\n",
       "    </tr>\n",
       "    <tr>\n",
       "      <th>42641</th>\n",
       "      <td>E1617-67231</td>\n",
       "      <td>0.434</td>\n",
       "      <td>ALPESHKUMAR CHANDRAKANTBHAI PANDYA</td>\n",
       "      <td>2018-02-11</td>\n",
       "      <td>3</td>\n",
       "      <td>FLO01</td>\n",
       "      <td>FLOWER</td>\n",
       "      <td>0</td>\n",
       "      <td>40.0</td>\n",
       "      <td>0.0</td>\n",
       "      <td>17.36</td>\n",
       "      <td>0.0</td>\n",
       "      <td>R</td>\n",
       "      <td>Vegetable</td>\n",
       "      <td>14.0</td>\n",
       "      <td>40.0</td>\n",
       "      <td>2</td>\n",
       "      <td>2018</td>\n",
       "      <td>Sunday</td>\n",
       "    </tr>\n",
       "    <tr>\n",
       "      <th>42640</th>\n",
       "      <td>E1617-67231</td>\n",
       "      <td>1.696</td>\n",
       "      <td>ALPESHKUMAR CHANDRAKANTBHAI PANDYA</td>\n",
       "      <td>2018-02-11</td>\n",
       "      <td>2</td>\n",
       "      <td>BAT01</td>\n",
       "      <td>BATAKA</td>\n",
       "      <td>0</td>\n",
       "      <td>22.0</td>\n",
       "      <td>0.0</td>\n",
       "      <td>37.31</td>\n",
       "      <td>0.0</td>\n",
       "      <td>R</td>\n",
       "      <td>Vegetable</td>\n",
       "      <td>12.0</td>\n",
       "      <td>18.0</td>\n",
       "      <td>2</td>\n",
       "      <td>2018</td>\n",
       "      <td>Sunday</td>\n",
       "    </tr>\n",
       "    <tr>\n",
       "      <th>...</th>\n",
       "      <td>...</td>\n",
       "      <td>...</td>\n",
       "      <td>...</td>\n",
       "      <td>...</td>\n",
       "      <td>...</td>\n",
       "      <td>...</td>\n",
       "      <td>...</td>\n",
       "      <td>...</td>\n",
       "      <td>...</td>\n",
       "      <td>...</td>\n",
       "      <td>...</td>\n",
       "      <td>...</td>\n",
       "      <td>...</td>\n",
       "      <td>...</td>\n",
       "      <td>...</td>\n",
       "      <td>...</td>\n",
       "      <td>...</td>\n",
       "      <td>...</td>\n",
       "      <td>...</td>\n",
       "    </tr>\n",
       "    <tr>\n",
       "      <th>23730</th>\n",
       "      <td>E1617-75723</td>\n",
       "      <td>1.000</td>\n",
       "      <td>RANA JASHUBHAI D</td>\n",
       "      <td>2019-12-01</td>\n",
       "      <td>2</td>\n",
       "      <td>BAT01</td>\n",
       "      <td>BATAKA</td>\n",
       "      <td>0</td>\n",
       "      <td>18.0</td>\n",
       "      <td>0.0</td>\n",
       "      <td>18.00</td>\n",
       "      <td>0.0</td>\n",
       "      <td>R</td>\n",
       "      <td>Vegetable</td>\n",
       "      <td>12.0</td>\n",
       "      <td>18.0</td>\n",
       "      <td>12</td>\n",
       "      <td>2019</td>\n",
       "      <td>Sunday</td>\n",
       "    </tr>\n",
       "    <tr>\n",
       "      <th>23731</th>\n",
       "      <td>E1617-75723</td>\n",
       "      <td>0.250</td>\n",
       "      <td>RANA JASHUBHAI D</td>\n",
       "      <td>2019-12-01</td>\n",
       "      <td>3</td>\n",
       "      <td>TIN01</td>\n",
       "      <td>TINDOLA</td>\n",
       "      <td>0</td>\n",
       "      <td>60.0</td>\n",
       "      <td>0.0</td>\n",
       "      <td>15.00</td>\n",
       "      <td>0.0</td>\n",
       "      <td>R</td>\n",
       "      <td>Vegetable</td>\n",
       "      <td>40.0</td>\n",
       "      <td>56.0</td>\n",
       "      <td>12</td>\n",
       "      <td>2019</td>\n",
       "      <td>Sunday</td>\n",
       "    </tr>\n",
       "    <tr>\n",
       "      <th>23732</th>\n",
       "      <td>E1617-75723</td>\n",
       "      <td>0.189</td>\n",
       "      <td>RANA JASHUBHAI D</td>\n",
       "      <td>2019-12-01</td>\n",
       "      <td>4</td>\n",
       "      <td>TOM01</td>\n",
       "      <td>TOMATA</td>\n",
       "      <td>0</td>\n",
       "      <td>25.0</td>\n",
       "      <td>0.0</td>\n",
       "      <td>4.72</td>\n",
       "      <td>0.0</td>\n",
       "      <td>R</td>\n",
       "      <td>Vegetable</td>\n",
       "      <td>18.0</td>\n",
       "      <td>28.0</td>\n",
       "      <td>12</td>\n",
       "      <td>2019</td>\n",
       "      <td>Sunday</td>\n",
       "    </tr>\n",
       "    <tr>\n",
       "      <th>23722</th>\n",
       "      <td>E1617-75720</td>\n",
       "      <td>0.226</td>\n",
       "      <td>NaN</td>\n",
       "      <td>2019-12-01</td>\n",
       "      <td>1</td>\n",
       "      <td>RIN03</td>\n",
       "      <td>RINGAN LAMBA</td>\n",
       "      <td>0</td>\n",
       "      <td>40.0</td>\n",
       "      <td>0.0</td>\n",
       "      <td>9.04</td>\n",
       "      <td>0.0</td>\n",
       "      <td>R</td>\n",
       "      <td>Vegetable</td>\n",
       "      <td>20.0</td>\n",
       "      <td>40.0</td>\n",
       "      <td>12</td>\n",
       "      <td>2019</td>\n",
       "      <td>Sunday</td>\n",
       "    </tr>\n",
       "    <tr>\n",
       "      <th>23727</th>\n",
       "      <td>E1617-75722</td>\n",
       "      <td>0.628</td>\n",
       "      <td>NaN</td>\n",
       "      <td>2019-12-01</td>\n",
       "      <td>2</td>\n",
       "      <td>MET01</td>\n",
       "      <td>METHI</td>\n",
       "      <td>0</td>\n",
       "      <td>30.0</td>\n",
       "      <td>0.0</td>\n",
       "      <td>18.84</td>\n",
       "      <td>0.0</td>\n",
       "      <td>R</td>\n",
       "      <td>Vegetable</td>\n",
       "      <td>17.5</td>\n",
       "      <td>36.0</td>\n",
       "      <td>12</td>\n",
       "      <td>2019</td>\n",
       "      <td>Sunday</td>\n",
       "    </tr>\n",
       "  </tbody>\n",
       "</table>\n",
       "<p>26690 rows × 19 columns</p>\n",
       "</div>"
      ],
      "text/plain": [
       "            BillNo  BillQty                           BillParty   BillDate  \\\n",
       "42821  E1617-67296    0.480                            RAM BABU 2018-02-11   \n",
       "42643  E1617-67231    0.250  ALPESHKUMAR CHANDRAKANTBHAI PANDYA 2018-02-11   \n",
       "42642  E1617-67231    0.548  ALPESHKUMAR CHANDRAKANTBHAI PANDYA 2018-02-11   \n",
       "42641  E1617-67231    0.434  ALPESHKUMAR CHANDRAKANTBHAI PANDYA 2018-02-11   \n",
       "42640  E1617-67231    1.696  ALPESHKUMAR CHANDRAKANTBHAI PANDYA 2018-02-11   \n",
       "...            ...      ...                                 ...        ...   \n",
       "23730  E1617-75723    1.000                    RANA JASHUBHAI D 2019-12-01   \n",
       "23731  E1617-75723    0.250                    RANA JASHUBHAI D 2019-12-01   \n",
       "23732  E1617-75723    0.189                    RANA JASHUBHAI D 2019-12-01   \n",
       "23722  E1617-75720    0.226                                 NaN 2019-12-01   \n",
       "23727  E1617-75722    0.628                                 NaN 2019-12-01   \n",
       "\n",
       "       BillProdNo BillProdCode  BillProdName  BillAddTax  BillRate  BillVat  \\\n",
       "42821           5        PAL01         PALAK           0      50.0      0.0   \n",
       "42643           5        GAV01         GAVAR           0      60.0      0.0   \n",
       "42642           4        KAK01         KAKDI           0      36.0      0.0   \n",
       "42641           3        FLO01        FLOWER           0      40.0      0.0   \n",
       "42640           2        BAT01        BATAKA           0      22.0      0.0   \n",
       "...           ...          ...           ...         ...       ...      ...   \n",
       "23730           2        BAT01        BATAKA           0      18.0      0.0   \n",
       "23731           3        TIN01       TINDOLA           0      60.0      0.0   \n",
       "23732           4        TOM01        TOMATA           0      25.0      0.0   \n",
       "23722           1        RIN03  RINGAN LAMBA           0      40.0      0.0   \n",
       "23727           2        MET01         METHI           0      30.0      0.0   \n",
       "\n",
       "       BillAmt  BillFree BillPartyType ProdCategory  ProdPRate  ProdSRate  \\\n",
       "42821    24.00       0.0             R    Vegetable       12.0       30.0   \n",
       "42643    15.00       0.0             R    Vegetable       65.0       90.0   \n",
       "42642    19.73       0.0             R    Vegetable       40.0       60.0   \n",
       "42641    17.36       0.0             R    Vegetable       14.0       40.0   \n",
       "42640    37.31       0.0             R    Vegetable       12.0       18.0   \n",
       "...        ...       ...           ...          ...        ...        ...   \n",
       "23730    18.00       0.0             R    Vegetable       12.0       18.0   \n",
       "23731    15.00       0.0             R    Vegetable       40.0       56.0   \n",
       "23732     4.72       0.0             R    Vegetable       18.0       28.0   \n",
       "23722     9.04       0.0             R    Vegetable       20.0       40.0   \n",
       "23727    18.84       0.0             R    Vegetable       17.5       36.0   \n",
       "\n",
       "       month  year weekday  \n",
       "42821      2  2018  Sunday  \n",
       "42643      2  2018  Sunday  \n",
       "42642      2  2018  Sunday  \n",
       "42641      2  2018  Sunday  \n",
       "42640      2  2018  Sunday  \n",
       "...      ...   ...     ...  \n",
       "23730     12  2019  Sunday  \n",
       "23731     12  2019  Sunday  \n",
       "23732     12  2019  Sunday  \n",
       "23722     12  2019  Sunday  \n",
       "23727     12  2019  Sunday  \n",
       "\n",
       "[26690 rows x 19 columns]"
      ]
     },
     "execution_count": 10,
     "metadata": {},
     "output_type": "execute_result"
    }
   ],
   "source": [
    "\n",
    "# df.BillAmt.plot()\n",
    "prod = df.loc[df.ProdCategory=='Vegetable',:].copy()\n",
    "prod.sort_values(by='BillDate',ascending=True,inplace=True)\n",
    "\n",
    "\n",
    "prod\n"
   ]
  },
  {
   "cell_type": "code",
   "execution_count": 12,
   "metadata": {},
   "outputs": [
    {
     "data": {
      "image/png": "[encoded data removed]",
      "text/plain": [
       "<Figure size 720x504 with 1 Axes>"
      ]
     },
     "metadata": {},
     "output_type": "display_data"
    }
   ],
   "source": [
    "\n",
    "# prod.BillAmt.plot()\n",
    "prod.sort_index(inplace=True)\n",
    "prod['BillAmt'].rolling(30).mean().plot()\n",
    "prod['billamt'] = prod['BillAmt'].rolling(30).mean()"
   ]
  },
  {
   "cell_type": "code",
   "execution_count": 13,
   "metadata": {},
   "outputs": [
    {
     "data": {
      "text/html": [
       "<div>\n",
       "<style scoped>\n",
       "    .dataframe tbody tr th:only-of-type {\n",
       "        vertical-align: middle;\n",
       "    }\n",
       "\n",
       "    .dataframe tbody tr th {\n",
       "        vertical-align: top;\n",
       "    }\n",
       "\n",
       "    .dataframe thead th {\n",
       "        text-align: right;\n",
       "    }\n",
       "</style>\n",
       "<table border=\"1\" class=\"dataframe\">\n",
       "  <thead>\n",
       "    <tr style=\"text-align: right;\">\n",
       "      <th></th>\n",
       "      <th>BillNo</th>\n",
       "      <th>BillQty</th>\n",
       "      <th>BillParty</th>\n",
       "      <th>BillDate</th>\n",
       "      <th>BillProdNo</th>\n",
       "      <th>BillProdCode</th>\n",
       "      <th>BillProdName</th>\n",
       "      <th>BillAddTax</th>\n",
       "      <th>BillRate</th>\n",
       "      <th>BillVat</th>\n",
       "      <th>BillAmt</th>\n",
       "      <th>BillFree</th>\n",
       "      <th>BillPartyType</th>\n",
       "      <th>ProdCategory</th>\n",
       "      <th>ProdPRate</th>\n",
       "      <th>ProdSRate</th>\n",
       "      <th>month</th>\n",
       "      <th>year</th>\n",
       "      <th>weekday</th>\n",
       "      <th>billamt</th>\n",
       "    </tr>\n",
       "  </thead>\n",
       "  <tbody>\n",
       "    <tr>\n",
       "      <th>34</th>\n",
       "      <td>E1617-75868</td>\n",
       "      <td>0.537</td>\n",
       "      <td>V N PATEL</td>\n",
       "      <td>2019-01-16</td>\n",
       "      <td>4</td>\n",
       "      <td>GAJ01</td>\n",
       "      <td>GAJAR</td>\n",
       "      <td>0</td>\n",
       "      <td>24.0</td>\n",
       "      <td>0.0</td>\n",
       "      <td>12.89</td>\n",
       "      <td>0.0</td>\n",
       "      <td>R</td>\n",
       "      <td>Vegetable</td>\n",
       "      <td>13.0</td>\n",
       "      <td>24.0</td>\n",
       "      <td>1</td>\n",
       "      <td>2019</td>\n",
       "      <td>Wednesday</td>\n",
       "      <td>33.110667</td>\n",
       "    </tr>\n",
       "    <tr>\n",
       "      <th>35</th>\n",
       "      <td>E1617-75868</td>\n",
       "      <td>0.917</td>\n",
       "      <td>V N PATEL</td>\n",
       "      <td>2019-01-16</td>\n",
       "      <td>3</td>\n",
       "      <td>FLO01</td>\n",
       "      <td>FLOWER</td>\n",
       "      <td>0</td>\n",
       "      <td>34.0</td>\n",
       "      <td>0.0</td>\n",
       "      <td>31.18</td>\n",
       "      <td>0.0</td>\n",
       "      <td>R</td>\n",
       "      <td>Vegetable</td>\n",
       "      <td>14.0</td>\n",
       "      <td>40.0</td>\n",
       "      <td>1</td>\n",
       "      <td>2019</td>\n",
       "      <td>Wednesday</td>\n",
       "      <td>29.483333</td>\n",
       "    </tr>\n",
       "    <tr>\n",
       "      <th>36</th>\n",
       "      <td>E1617-75868</td>\n",
       "      <td>0.943</td>\n",
       "      <td>V N PATEL</td>\n",
       "      <td>2019-01-16</td>\n",
       "      <td>2</td>\n",
       "      <td>SUR01</td>\n",
       "      <td>SURAN</td>\n",
       "      <td>0</td>\n",
       "      <td>40.0</td>\n",
       "      <td>0.0</td>\n",
       "      <td>37.72</td>\n",
       "      <td>0.0</td>\n",
       "      <td>R</td>\n",
       "      <td>Vegetable</td>\n",
       "      <td>22.0</td>\n",
       "      <td>40.0</td>\n",
       "      <td>1</td>\n",
       "      <td>2019</td>\n",
       "      <td>Wednesday</td>\n",
       "      <td>28.340667</td>\n",
       "    </tr>\n",
       "    <tr>\n",
       "      <th>37</th>\n",
       "      <td>E1617-75868</td>\n",
       "      <td>0.333</td>\n",
       "      <td>V N PATEL</td>\n",
       "      <td>2019-01-16</td>\n",
       "      <td>6</td>\n",
       "      <td>RIN03</td>\n",
       "      <td>RINGAN LAMBA</td>\n",
       "      <td>0</td>\n",
       "      <td>40.0</td>\n",
       "      <td>0.0</td>\n",
       "      <td>13.32</td>\n",
       "      <td>0.0</td>\n",
       "      <td>R</td>\n",
       "      <td>Vegetable</td>\n",
       "      <td>20.0</td>\n",
       "      <td>40.0</td>\n",
       "      <td>1</td>\n",
       "      <td>2019</td>\n",
       "      <td>Wednesday</td>\n",
       "      <td>24.984667</td>\n",
       "    </tr>\n",
       "    <tr>\n",
       "      <th>43</th>\n",
       "      <td>E1617-75873</td>\n",
       "      <td>1.000</td>\n",
       "      <td>SATVAM</td>\n",
       "      <td>2019-01-16</td>\n",
       "      <td>8</td>\n",
       "      <td>RIN02</td>\n",
       "      <td>RINGAN BHATTA</td>\n",
       "      <td>0</td>\n",
       "      <td>40.0</td>\n",
       "      <td>0.0</td>\n",
       "      <td>40.00</td>\n",
       "      <td>0.0</td>\n",
       "      <td>R</td>\n",
       "      <td>Vegetable</td>\n",
       "      <td>17.5</td>\n",
       "      <td>32.0</td>\n",
       "      <td>1</td>\n",
       "      <td>2019</td>\n",
       "      <td>Wednesday</td>\n",
       "      <td>26.118000</td>\n",
       "    </tr>\n",
       "    <tr>\n",
       "      <th>44</th>\n",
       "      <td>E1617-75873</td>\n",
       "      <td>1.500</td>\n",
       "      <td>SATVAM</td>\n",
       "      <td>2019-01-16</td>\n",
       "      <td>12</td>\n",
       "      <td>DUD01</td>\n",
       "      <td>DUDHI</td>\n",
       "      <td>0</td>\n",
       "      <td>20.0</td>\n",
       "      <td>0.0</td>\n",
       "      <td>30.00</td>\n",
       "      <td>0.0</td>\n",
       "      <td>R</td>\n",
       "      <td>Vegetable</td>\n",
       "      <td>10.0</td>\n",
       "      <td>20.0</td>\n",
       "      <td>1</td>\n",
       "      <td>2019</td>\n",
       "      <td>Wednesday</td>\n",
       "      <td>25.618000</td>\n",
       "    </tr>\n",
       "    <tr>\n",
       "      <th>45</th>\n",
       "      <td>E1617-75873</td>\n",
       "      <td>2.000</td>\n",
       "      <td>SATVAM</td>\n",
       "      <td>2019-01-16</td>\n",
       "      <td>2</td>\n",
       "      <td>MAR01</td>\n",
       "      <td>MARCHA</td>\n",
       "      <td>0</td>\n",
       "      <td>55.0</td>\n",
       "      <td>0.0</td>\n",
       "      <td>110.00</td>\n",
       "      <td>0.0</td>\n",
       "      <td>R</td>\n",
       "      <td>Vegetable</td>\n",
       "      <td>33.0</td>\n",
       "      <td>50.0</td>\n",
       "      <td>1</td>\n",
       "      <td>2019</td>\n",
       "      <td>Wednesday</td>\n",
       "      <td>28.118000</td>\n",
       "    </tr>\n",
       "    <tr>\n",
       "      <th>46</th>\n",
       "      <td>E1617-75873</td>\n",
       "      <td>2.600</td>\n",
       "      <td>SATVAM</td>\n",
       "      <td>2019-01-16</td>\n",
       "      <td>11</td>\n",
       "      <td>FLO01</td>\n",
       "      <td>FLOWER</td>\n",
       "      <td>0</td>\n",
       "      <td>40.0</td>\n",
       "      <td>0.0</td>\n",
       "      <td>104.00</td>\n",
       "      <td>0.0</td>\n",
       "      <td>R</td>\n",
       "      <td>Vegetable</td>\n",
       "      <td>14.0</td>\n",
       "      <td>40.0</td>\n",
       "      <td>1</td>\n",
       "      <td>2019</td>\n",
       "      <td>Wednesday</td>\n",
       "      <td>30.418000</td>\n",
       "    </tr>\n",
       "    <tr>\n",
       "      <th>47</th>\n",
       "      <td>E1617-75873</td>\n",
       "      <td>10.000</td>\n",
       "      <td>SATVAM</td>\n",
       "      <td>2019-01-16</td>\n",
       "      <td>13</td>\n",
       "      <td>BAT01</td>\n",
       "      <td>BATAKA</td>\n",
       "      <td>0</td>\n",
       "      <td>16.0</td>\n",
       "      <td>0.0</td>\n",
       "      <td>160.00</td>\n",
       "      <td>0.0</td>\n",
       "      <td>R</td>\n",
       "      <td>Vegetable</td>\n",
       "      <td>12.0</td>\n",
       "      <td>18.0</td>\n",
       "      <td>1</td>\n",
       "      <td>2019</td>\n",
       "      <td>Wednesday</td>\n",
       "      <td>35.351333</td>\n",
       "    </tr>\n",
       "    <tr>\n",
       "      <th>48</th>\n",
       "      <td>E1617-75873</td>\n",
       "      <td>3.000</td>\n",
       "      <td>SATVAM</td>\n",
       "      <td>2019-01-16</td>\n",
       "      <td>10</td>\n",
       "      <td>TIN01</td>\n",
       "      <td>TINDOLA</td>\n",
       "      <td>0</td>\n",
       "      <td>60.0</td>\n",
       "      <td>0.0</td>\n",
       "      <td>180.00</td>\n",
       "      <td>0.0</td>\n",
       "      <td>R</td>\n",
       "      <td>Vegetable</td>\n",
       "      <td>40.0</td>\n",
       "      <td>56.0</td>\n",
       "      <td>1</td>\n",
       "      <td>2019</td>\n",
       "      <td>Wednesday</td>\n",
       "      <td>39.684667</td>\n",
       "    </tr>\n",
       "    <tr>\n",
       "      <th>49</th>\n",
       "      <td>E1617-75873</td>\n",
       "      <td>6.100</td>\n",
       "      <td>SATVAM</td>\n",
       "      <td>2019-01-16</td>\n",
       "      <td>9</td>\n",
       "      <td>PAL01</td>\n",
       "      <td>PALAK</td>\n",
       "      <td>0</td>\n",
       "      <td>30.0</td>\n",
       "      <td>0.0</td>\n",
       "      <td>183.00</td>\n",
       "      <td>0.0</td>\n",
       "      <td>R</td>\n",
       "      <td>Vegetable</td>\n",
       "      <td>12.0</td>\n",
       "      <td>30.0</td>\n",
       "      <td>1</td>\n",
       "      <td>2019</td>\n",
       "      <td>Wednesday</td>\n",
       "      <td>45.184667</td>\n",
       "    </tr>\n",
       "    <tr>\n",
       "      <th>50</th>\n",
       "      <td>E1617-75873</td>\n",
       "      <td>0.756</td>\n",
       "      <td>SATVAM</td>\n",
       "      <td>2019-01-16</td>\n",
       "      <td>7</td>\n",
       "      <td>GAJ01</td>\n",
       "      <td>GAJAR</td>\n",
       "      <td>0</td>\n",
       "      <td>24.0</td>\n",
       "      <td>0.0</td>\n",
       "      <td>18.14</td>\n",
       "      <td>0.0</td>\n",
       "      <td>R</td>\n",
       "      <td>Vegetable</td>\n",
       "      <td>13.0</td>\n",
       "      <td>24.0</td>\n",
       "      <td>1</td>\n",
       "      <td>2019</td>\n",
       "      <td>Wednesday</td>\n",
       "      <td>45.557333</td>\n",
       "    </tr>\n",
       "    <tr>\n",
       "      <th>51</th>\n",
       "      <td>E1617-75873</td>\n",
       "      <td>0.550</td>\n",
       "      <td>SATVAM</td>\n",
       "      <td>2019-01-16</td>\n",
       "      <td>6</td>\n",
       "      <td>BEE01</td>\n",
       "      <td>BEET</td>\n",
       "      <td>0</td>\n",
       "      <td>40.0</td>\n",
       "      <td>0.0</td>\n",
       "      <td>22.00</td>\n",
       "      <td>0.0</td>\n",
       "      <td>R</td>\n",
       "      <td>Vegetable</td>\n",
       "      <td>20.0</td>\n",
       "      <td>40.0</td>\n",
       "      <td>1</td>\n",
       "      <td>2019</td>\n",
       "      <td>Wednesday</td>\n",
       "      <td>45.107333</td>\n",
       "    </tr>\n",
       "    <tr>\n",
       "      <th>52</th>\n",
       "      <td>E1617-75873</td>\n",
       "      <td>2.000</td>\n",
       "      <td>SATVAM</td>\n",
       "      <td>2019-01-16</td>\n",
       "      <td>5</td>\n",
       "      <td>AAD01</td>\n",
       "      <td>AADU</td>\n",
       "      <td>0</td>\n",
       "      <td>100.0</td>\n",
       "      <td>0.0</td>\n",
       "      <td>200.00</td>\n",
       "      <td>0.0</td>\n",
       "      <td>R</td>\n",
       "      <td>Vegetable</td>\n",
       "      <td>85.0</td>\n",
       "      <td>100.0</td>\n",
       "      <td>1</td>\n",
       "      <td>2019</td>\n",
       "      <td>Wednesday</td>\n",
       "      <td>50.724000</td>\n",
       "    </tr>\n",
       "    <tr>\n",
       "      <th>53</th>\n",
       "      <td>E1617-75873</td>\n",
       "      <td>0.547</td>\n",
       "      <td>SATVAM</td>\n",
       "      <td>2019-01-16</td>\n",
       "      <td>3</td>\n",
       "      <td>DHA01</td>\n",
       "      <td>DHANA</td>\n",
       "      <td>0</td>\n",
       "      <td>60.0</td>\n",
       "      <td>0.0</td>\n",
       "      <td>32.82</td>\n",
       "      <td>0.0</td>\n",
       "      <td>R</td>\n",
       "      <td>Vegetable</td>\n",
       "      <td>30.0</td>\n",
       "      <td>60.0</td>\n",
       "      <td>1</td>\n",
       "      <td>2019</td>\n",
       "      <td>Wednesday</td>\n",
       "      <td>51.215667</td>\n",
       "    </tr>\n",
       "    <tr>\n",
       "      <th>54</th>\n",
       "      <td>E1617-75873</td>\n",
       "      <td>7.000</td>\n",
       "      <td>SATVAM</td>\n",
       "      <td>2019-01-16</td>\n",
       "      <td>1</td>\n",
       "      <td>DUN01</td>\n",
       "      <td>DUNGRI</td>\n",
       "      <td>0</td>\n",
       "      <td>14.0</td>\n",
       "      <td>0.0</td>\n",
       "      <td>98.00</td>\n",
       "      <td>0.0</td>\n",
       "      <td>R</td>\n",
       "      <td>Vegetable</td>\n",
       "      <td>10.0</td>\n",
       "      <td>16.0</td>\n",
       "      <td>1</td>\n",
       "      <td>2019</td>\n",
       "      <td>Wednesday</td>\n",
       "      <td>53.582333</td>\n",
       "    </tr>\n",
       "    <tr>\n",
       "      <th>55</th>\n",
       "      <td>E1617-75873</td>\n",
       "      <td>0.500</td>\n",
       "      <td>SATVAM</td>\n",
       "      <td>2019-01-16</td>\n",
       "      <td>4</td>\n",
       "      <td>LIM01</td>\n",
       "      <td>LIMBU</td>\n",
       "      <td>0</td>\n",
       "      <td>50.0</td>\n",
       "      <td>0.0</td>\n",
       "      <td>25.00</td>\n",
       "      <td>0.0</td>\n",
       "      <td>R</td>\n",
       "      <td>Vegetable</td>\n",
       "      <td>22.0</td>\n",
       "      <td>48.0</td>\n",
       "      <td>1</td>\n",
       "      <td>2019</td>\n",
       "      <td>Wednesday</td>\n",
       "      <td>54.141333</td>\n",
       "    </tr>\n",
       "    <tr>\n",
       "      <th>81</th>\n",
       "      <td>E1617-75880</td>\n",
       "      <td>0.295</td>\n",
       "      <td>NISHABEN MITESHBHAI PATEL</td>\n",
       "      <td>2019-01-16</td>\n",
       "      <td>5</td>\n",
       "      <td>LIM01</td>\n",
       "      <td>LIMBU</td>\n",
       "      <td>0</td>\n",
       "      <td>50.0</td>\n",
       "      <td>0.0</td>\n",
       "      <td>14.75</td>\n",
       "      <td>0.0</td>\n",
       "      <td>R</td>\n",
       "      <td>Vegetable</td>\n",
       "      <td>22.0</td>\n",
       "      <td>48.0</td>\n",
       "      <td>1</td>\n",
       "      <td>2019</td>\n",
       "      <td>Wednesday</td>\n",
       "      <td>46.719667</td>\n",
       "    </tr>\n",
       "    <tr>\n",
       "      <th>82</th>\n",
       "      <td>E1617-75880</td>\n",
       "      <td>0.934</td>\n",
       "      <td>NISHABEN MITESHBHAI PATEL</td>\n",
       "      <td>2019-01-16</td>\n",
       "      <td>4</td>\n",
       "      <td>TOM01</td>\n",
       "      <td>TOMATA</td>\n",
       "      <td>0</td>\n",
       "      <td>24.0</td>\n",
       "      <td>0.0</td>\n",
       "      <td>22.42</td>\n",
       "      <td>0.0</td>\n",
       "      <td>R</td>\n",
       "      <td>Vegetable</td>\n",
       "      <td>18.0</td>\n",
       "      <td>28.0</td>\n",
       "      <td>1</td>\n",
       "      <td>2019</td>\n",
       "      <td>Wednesday</td>\n",
       "      <td>46.467000</td>\n",
       "    </tr>\n",
       "    <tr>\n",
       "      <th>83</th>\n",
       "      <td>E1617-75880</td>\n",
       "      <td>0.460</td>\n",
       "      <td>NISHABEN MITESHBHAI PATEL</td>\n",
       "      <td>2019-01-16</td>\n",
       "      <td>2</td>\n",
       "      <td>DUD01</td>\n",
       "      <td>DUDHI</td>\n",
       "      <td>0</td>\n",
       "      <td>20.0</td>\n",
       "      <td>0.0</td>\n",
       "      <td>9.20</td>\n",
       "      <td>0.0</td>\n",
       "      <td>R</td>\n",
       "      <td>Vegetable</td>\n",
       "      <td>10.0</td>\n",
       "      <td>20.0</td>\n",
       "      <td>1</td>\n",
       "      <td>2019</td>\n",
       "      <td>Wednesday</td>\n",
       "      <td>43.107000</td>\n",
       "    </tr>\n",
       "    <tr>\n",
       "      <th>84</th>\n",
       "      <td>E1617-75880</td>\n",
       "      <td>0.521</td>\n",
       "      <td>NISHABEN MITESHBHAI PATEL</td>\n",
       "      <td>2019-01-16</td>\n",
       "      <td>1</td>\n",
       "      <td>GAJ01</td>\n",
       "      <td>GAJAR</td>\n",
       "      <td>0</td>\n",
       "      <td>24.0</td>\n",
       "      <td>0.0</td>\n",
       "      <td>12.50</td>\n",
       "      <td>0.0</td>\n",
       "      <td>R</td>\n",
       "      <td>Vegetable</td>\n",
       "      <td>13.0</td>\n",
       "      <td>24.0</td>\n",
       "      <td>1</td>\n",
       "      <td>2019</td>\n",
       "      <td>Wednesday</td>\n",
       "      <td>40.057000</td>\n",
       "    </tr>\n",
       "    <tr>\n",
       "      <th>85</th>\n",
       "      <td>E1617-75880</td>\n",
       "      <td>0.580</td>\n",
       "      <td>NISHABEN MITESHBHAI PATEL</td>\n",
       "      <td>2019-01-16</td>\n",
       "      <td>3</td>\n",
       "      <td>BHI01</td>\n",
       "      <td>BHINDA</td>\n",
       "      <td>0</td>\n",
       "      <td>72.0</td>\n",
       "      <td>0.0</td>\n",
       "      <td>41.76</td>\n",
       "      <td>0.0</td>\n",
       "      <td>R</td>\n",
       "      <td>Vegetable</td>\n",
       "      <td>50.0</td>\n",
       "      <td>68.0</td>\n",
       "      <td>1</td>\n",
       "      <td>2019</td>\n",
       "      <td>Wednesday</td>\n",
       "      <td>36.115667</td>\n",
       "    </tr>\n",
       "    <tr>\n",
       "      <th>86</th>\n",
       "      <td>E1617-75881</td>\n",
       "      <td>3.000</td>\n",
       "      <td>AXILAM</td>\n",
       "      <td>2019-01-16</td>\n",
       "      <td>11</td>\n",
       "      <td>DUD01</td>\n",
       "      <td>DUDHI</td>\n",
       "      <td>0</td>\n",
       "      <td>20.0</td>\n",
       "      <td>0.0</td>\n",
       "      <td>60.00</td>\n",
       "      <td>0.0</td>\n",
       "      <td>R</td>\n",
       "      <td>Vegetable</td>\n",
       "      <td>10.0</td>\n",
       "      <td>20.0</td>\n",
       "      <td>1</td>\n",
       "      <td>2019</td>\n",
       "      <td>Wednesday</td>\n",
       "      <td>32.115667</td>\n",
       "    </tr>\n",
       "    <tr>\n",
       "      <th>87</th>\n",
       "      <td>E1617-75881</td>\n",
       "      <td>1.000</td>\n",
       "      <td>AXILAM</td>\n",
       "      <td>2019-01-16</td>\n",
       "      <td>15</td>\n",
       "      <td>KOB01</td>\n",
       "      <td>KOBIJ</td>\n",
       "      <td>0</td>\n",
       "      <td>20.0</td>\n",
       "      <td>0.0</td>\n",
       "      <td>20.00</td>\n",
       "      <td>0.0</td>\n",
       "      <td>R</td>\n",
       "      <td>Vegetable</td>\n",
       "      <td>8.7</td>\n",
       "      <td>20.0</td>\n",
       "      <td>1</td>\n",
       "      <td>2019</td>\n",
       "      <td>Wednesday</td>\n",
       "      <td>26.682333</td>\n",
       "    </tr>\n",
       "    <tr>\n",
       "      <th>88</th>\n",
       "      <td>E1617-75881</td>\n",
       "      <td>2.000</td>\n",
       "      <td>AXILAM</td>\n",
       "      <td>2019-01-16</td>\n",
       "      <td>14</td>\n",
       "      <td>BHI01</td>\n",
       "      <td>BHINDA</td>\n",
       "      <td>0</td>\n",
       "      <td>72.0</td>\n",
       "      <td>0.0</td>\n",
       "      <td>144.00</td>\n",
       "      <td>0.0</td>\n",
       "      <td>R</td>\n",
       "      <td>Vegetable</td>\n",
       "      <td>50.0</td>\n",
       "      <td>68.0</td>\n",
       "      <td>1</td>\n",
       "      <td>2019</td>\n",
       "      <td>Wednesday</td>\n",
       "      <td>30.877667</td>\n",
       "    </tr>\n",
       "    <tr>\n",
       "      <th>89</th>\n",
       "      <td>E1617-75881</td>\n",
       "      <td>2.000</td>\n",
       "      <td>AXILAM</td>\n",
       "      <td>2019-01-16</td>\n",
       "      <td>1</td>\n",
       "      <td>AAD01</td>\n",
       "      <td>AADU</td>\n",
       "      <td>0</td>\n",
       "      <td>100.0</td>\n",
       "      <td>0.0</td>\n",
       "      <td>200.00</td>\n",
       "      <td>0.0</td>\n",
       "      <td>R</td>\n",
       "      <td>Vegetable</td>\n",
       "      <td>85.0</td>\n",
       "      <td>100.0</td>\n",
       "      <td>1</td>\n",
       "      <td>2019</td>\n",
       "      <td>Wednesday</td>\n",
       "      <td>36.811000</td>\n",
       "    </tr>\n",
       "    <tr>\n",
       "      <th>90</th>\n",
       "      <td>E1617-75881</td>\n",
       "      <td>0.500</td>\n",
       "      <td>AXILAM</td>\n",
       "      <td>2019-01-16</td>\n",
       "      <td>12</td>\n",
       "      <td>TIN01</td>\n",
       "      <td>TINDOLA</td>\n",
       "      <td>0</td>\n",
       "      <td>60.0</td>\n",
       "      <td>0.0</td>\n",
       "      <td>30.00</td>\n",
       "      <td>0.0</td>\n",
       "      <td>R</td>\n",
       "      <td>Vegetable</td>\n",
       "      <td>40.0</td>\n",
       "      <td>56.0</td>\n",
       "      <td>1</td>\n",
       "      <td>2019</td>\n",
       "      <td>Wednesday</td>\n",
       "      <td>31.144333</td>\n",
       "    </tr>\n",
       "    <tr>\n",
       "      <th>91</th>\n",
       "      <td>E1617-75881</td>\n",
       "      <td>1.000</td>\n",
       "      <td>AXILAM</td>\n",
       "      <td>2019-01-16</td>\n",
       "      <td>10</td>\n",
       "      <td>VAT01</td>\n",
       "      <td>VATANA</td>\n",
       "      <td>0</td>\n",
       "      <td>40.0</td>\n",
       "      <td>0.0</td>\n",
       "      <td>40.00</td>\n",
       "      <td>0.0</td>\n",
       "      <td>R</td>\n",
       "      <td>Vegetable</td>\n",
       "      <td>22.0</td>\n",
       "      <td>40.0</td>\n",
       "      <td>1</td>\n",
       "      <td>2019</td>\n",
       "      <td>Wednesday</td>\n",
       "      <td>31.383667</td>\n",
       "    </tr>\n",
       "    <tr>\n",
       "      <th>92</th>\n",
       "      <td>E1617-75881</td>\n",
       "      <td>3.350</td>\n",
       "      <td>AXILAM</td>\n",
       "      <td>2019-01-16</td>\n",
       "      <td>9</td>\n",
       "      <td>FLO01</td>\n",
       "      <td>FLOWER</td>\n",
       "      <td>0</td>\n",
       "      <td>40.0</td>\n",
       "      <td>0.0</td>\n",
       "      <td>134.00</td>\n",
       "      <td>0.0</td>\n",
       "      <td>R</td>\n",
       "      <td>Vegetable</td>\n",
       "      <td>14.0</td>\n",
       "      <td>40.0</td>\n",
       "      <td>1</td>\n",
       "      <td>2019</td>\n",
       "      <td>Wednesday</td>\n",
       "      <td>32.583667</td>\n",
       "    </tr>\n",
       "    <tr>\n",
       "      <th>93</th>\n",
       "      <td>E1617-75881</td>\n",
       "      <td>1.000</td>\n",
       "      <td>AXILAM</td>\n",
       "      <td>2019-01-16</td>\n",
       "      <td>7</td>\n",
       "      <td>MAR01</td>\n",
       "      <td>MARCHA</td>\n",
       "      <td>0</td>\n",
       "      <td>55.0</td>\n",
       "      <td>0.0</td>\n",
       "      <td>55.00</td>\n",
       "      <td>0.0</td>\n",
       "      <td>R</td>\n",
       "      <td>Vegetable</td>\n",
       "      <td>33.0</td>\n",
       "      <td>50.0</td>\n",
       "      <td>1</td>\n",
       "      <td>2019</td>\n",
       "      <td>Wednesday</td>\n",
       "      <td>33.583667</td>\n",
       "    </tr>\n",
       "  </tbody>\n",
       "</table>\n",
       "</div>"
      ],
      "text/plain": [
       "         BillNo  BillQty                  BillParty   BillDate  BillProdNo  \\\n",
       "34  E1617-75868    0.537                  V N PATEL 2019-01-16           4   \n",
       "35  E1617-75868    0.917                  V N PATEL 2019-01-16           3   \n",
       "36  E1617-75868    0.943                  V N PATEL 2019-01-16           2   \n",
       "37  E1617-75868    0.333                  V N PATEL 2019-01-16           6   \n",
       "43  E1617-75873    1.000                     SATVAM 2019-01-16           8   \n",
       "44  E1617-75873    1.500                     SATVAM 2019-01-16          12   \n",
       "45  E1617-75873    2.000                     SATVAM 2019-01-16           2   \n",
       "46  E1617-75873    2.600                     SATVAM 2019-01-16          11   \n",
       "47  E1617-75873   10.000                     SATVAM 2019-01-16          13   \n",
       "48  E1617-75873    3.000                     SATVAM 2019-01-16          10   \n",
       "49  E1617-75873    6.100                     SATVAM 2019-01-16           9   \n",
       "50  E1617-75873    0.756                     SATVAM 2019-01-16           7   \n",
       "51  E1617-75873    0.550                     SATVAM 2019-01-16           6   \n",
       "52  E1617-75873    2.000                     SATVAM 2019-01-16           5   \n",
       "53  E1617-75873    0.547                     SATVAM 2019-01-16           3   \n",
       "54  E1617-75873    7.000                     SATVAM 2019-01-16           1   \n",
       "55  E1617-75873    0.500                     SATVAM 2019-01-16           4   \n",
       "81  E1617-75880    0.295  NISHABEN MITESHBHAI PATEL 2019-01-16           5   \n",
       "82  E1617-75880    0.934  NISHABEN MITESHBHAI PATEL 2019-01-16           4   \n",
       "83  E1617-75880    0.460  NISHABEN MITESHBHAI PATEL 2019-01-16           2   \n",
       "84  E1617-75880    0.521  NISHABEN MITESHBHAI PATEL 2019-01-16           1   \n",
       "85  E1617-75880    0.580  NISHABEN MITESHBHAI PATEL 2019-01-16           3   \n",
       "86  E1617-75881    3.000                     AXILAM 2019-01-16          11   \n",
       "87  E1617-75881    1.000                     AXILAM 2019-01-16          15   \n",
       "88  E1617-75881    2.000                     AXILAM 2019-01-16          14   \n",
       "89  E1617-75881    2.000                     AXILAM 2019-01-16           1   \n",
       "90  E1617-75881    0.500                     AXILAM 2019-01-16          12   \n",
       "91  E1617-75881    1.000                     AXILAM 2019-01-16          10   \n",
       "92  E1617-75881    3.350                     AXILAM 2019-01-16           9   \n",
       "93  E1617-75881    1.000                     AXILAM 2019-01-16           7   \n",
       "\n",
       "   BillProdCode   BillProdName  BillAddTax  BillRate  BillVat  BillAmt  \\\n",
       "34        GAJ01          GAJAR           0      24.0      0.0    12.89   \n",
       "35        FLO01         FLOWER           0      34.0      0.0    31.18   \n",
       "36        SUR01          SURAN           0      40.0      0.0    37.72   \n",
       "37        RIN03   RINGAN LAMBA           0      40.0      0.0    13.32   \n",
       "43        RIN02  RINGAN BHATTA           0      40.0      0.0    40.00   \n",
       "44        DUD01          DUDHI           0      20.0      0.0    30.00   \n",
       "45        MAR01         MARCHA           0      55.0      0.0   110.00   \n",
       "46        FLO01         FLOWER           0      40.0      0.0   104.00   \n",
       "47        BAT01         BATAKA           0      16.0      0.0   160.00   \n",
       "48        TIN01        TINDOLA           0      60.0      0.0   180.00   \n",
       "49        PAL01          PALAK           0      30.0      0.0   183.00   \n",
       "50        GAJ01          GAJAR           0      24.0      0.0    18.14   \n",
       "51        BEE01           BEET           0      40.0      0.0    22.00   \n",
       "52        AAD01           AADU           0     100.0      0.0   200.00   \n",
       "53        DHA01          DHANA           0      60.0      0.0    32.82   \n",
       "54        DUN01         DUNGRI           0      14.0      0.0    98.00   \n",
       "55        LIM01          LIMBU           0      50.0      0.0    25.00   \n",
       "81        LIM01          LIMBU           0      50.0      0.0    14.75   \n",
       "82        TOM01         TOMATA           0      24.0      0.0    22.42   \n",
       "83        DUD01          DUDHI           0      20.0      0.0     9.20   \n",
       "84        GAJ01          GAJAR           0      24.0      0.0    12.50   \n",
       "85        BHI01         BHINDA           0      72.0      0.0    41.76   \n",
       "86        DUD01          DUDHI           0      20.0      0.0    60.00   \n",
       "87        KOB01          KOBIJ           0      20.0      0.0    20.00   \n",
       "88        BHI01         BHINDA           0      72.0      0.0   144.00   \n",
       "89        AAD01           AADU           0     100.0      0.0   200.00   \n",
       "90        TIN01        TINDOLA           0      60.0      0.0    30.00   \n",
       "91        VAT01         VATANA           0      40.0      0.0    40.00   \n",
       "92        FLO01         FLOWER           0      40.0      0.0   134.00   \n",
       "93        MAR01         MARCHA           0      55.0      0.0    55.00   \n",
       "\n",
       "    BillFree BillPartyType ProdCategory  ProdPRate  ProdSRate  month  year  \\\n",
       "34       0.0             R    Vegetable       13.0       24.0      1  2019   \n",
       "35       0.0             R    Vegetable       14.0       40.0      1  2019   \n",
       "36       0.0             R    Vegetable       22.0       40.0      1  2019   \n",
       "37       0.0             R    Vegetable       20.0       40.0      1  2019   \n",
       "43       0.0             R    Vegetable       17.5       32.0      1  2019   \n",
       "44       0.0             R    Vegetable       10.0       20.0      1  2019   \n",
       "45       0.0             R    Vegetable       33.0       50.0      1  2019   \n",
       "46       0.0             R    Vegetable       14.0       40.0      1  2019   \n",
       "47       0.0             R    Vegetable       12.0       18.0      1  2019   \n",
       "48       0.0             R    Vegetable       40.0       56.0      1  2019   \n",
       "49       0.0             R    Vegetable       12.0       30.0      1  2019   \n",
       "50       0.0             R    Vegetable       13.0       24.0      1  2019   \n",
       "51       0.0             R    Vegetable       20.0       40.0      1  2019   \n",
       "52       0.0             R    Vegetable       85.0      100.0      1  2019   \n",
       "53       0.0             R    Vegetable       30.0       60.0      1  2019   \n",
       "54       0.0             R    Vegetable       10.0       16.0      1  2019   \n",
       "55       0.0             R    Vegetable       22.0       48.0      1  2019   \n",
       "81       0.0             R    Vegetable       22.0       48.0      1  2019   \n",
       "82       0.0             R    Vegetable       18.0       28.0      1  2019   \n",
       "83       0.0             R    Vegetable       10.0       20.0      1  2019   \n",
       "84       0.0             R    Vegetable       13.0       24.0      1  2019   \n",
       "85       0.0             R    Vegetable       50.0       68.0      1  2019   \n",
       "86       0.0             R    Vegetable       10.0       20.0      1  2019   \n",
       "87       0.0             R    Vegetable        8.7       20.0      1  2019   \n",
       "88       0.0             R    Vegetable       50.0       68.0      1  2019   \n",
       "89       0.0             R    Vegetable       85.0      100.0      1  2019   \n",
       "90       0.0             R    Vegetable       40.0       56.0      1  2019   \n",
       "91       0.0             R    Vegetable       22.0       40.0      1  2019   \n",
       "92       0.0             R    Vegetable       14.0       40.0      1  2019   \n",
       "93       0.0             R    Vegetable       33.0       50.0      1  2019   \n",
       "\n",
       "      weekday    billamt  \n",
       "34  Wednesday  33.110667  \n",
       "35  Wednesday  29.483333  \n",
       "36  Wednesday  28.340667  \n",
       "37  Wednesday  24.984667  \n",
       "43  Wednesday  26.118000  \n",
       "44  Wednesday  25.618000  \n",
       "45  Wednesday  28.118000  \n",
       "46  Wednesday  30.418000  \n",
       "47  Wednesday  35.351333  \n",
       "48  Wednesday  39.684667  \n",
       "49  Wednesday  45.184667  \n",
       "50  Wednesday  45.557333  \n",
       "51  Wednesday  45.107333  \n",
       "52  Wednesday  50.724000  \n",
       "53  Wednesday  51.215667  \n",
       "54  Wednesday  53.582333  \n",
       "55  Wednesday  54.141333  \n",
       "81  Wednesday  46.719667  \n",
       "82  Wednesday  46.467000  \n",
       "83  Wednesday  43.107000  \n",
       "84  Wednesday  40.057000  \n",
       "85  Wednesday  36.115667  \n",
       "86  Wednesday  32.115667  \n",
       "87  Wednesday  26.682333  \n",
       "88  Wednesday  30.877667  \n",
       "89  Wednesday  36.811000  \n",
       "90  Wednesday  31.144333  \n",
       "91  Wednesday  31.383667  \n",
       "92  Wednesday  32.583667  \n",
       "93  Wednesday  33.583667  "
      ]
     },
     "execution_count": 13,
     "metadata": {},
     "output_type": "execute_result"
    }
   ],
   "source": [
    "\n",
    "#first 30 has NAN value\n",
    "prod.dropna().head(30)"
   ]
  },
  {
   "cell_type": "code",
   "execution_count": null,
   "metadata": {},
   "outputs": [],
   "source": []
  }
 ],
 "metadata": {
  "kernelspec": {
   "display_name": "Python 3",
   "language": "python",
   "name": "python3"
  },
  "language_info": {
   "codemirror_mode": {
    "name": "ipython",
    "version": 3
   },
   "file_extension": ".py",
   "mimetype": "text/x-python",
   "name": "python",
   "nbconvert_exporter": "python",
   "pygments_lexer": "ipython3",
   "version": "3.7.6"
  }
 },
 "nbformat": 4,
 "nbformat_minor": 4
}
